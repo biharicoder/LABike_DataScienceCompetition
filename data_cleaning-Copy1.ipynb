{
 "cells": [
  {
   "cell_type": "code",
   "execution_count": 1,
   "metadata": {},
   "outputs": [
    {
     "name": "stderr",
     "output_type": "stream",
     "text": [
      "c:\\users\\sayeed alvi\\appdata\\local\\programs\\python\\python37\\lib\\site-packages\\ipykernel\\parentpoller.py:116: UserWarning: Parent poll failed.  If the frontend dies,\n",
      "                the kernel may be left running.  Please let us know\n",
      "                about your system (bitness, Python, etc.) at\n",
      "                ipython-dev@scipy.org\n",
      "  ipython-dev@scipy.org\"\"\")\n"
     ]
    }
   ],
   "source": [
    "import pandas as pd\n",
    "import numpy as np\n",
    "import matplotlib.pyplot as plt\n",
    "from matplotlib import pyplot\n",
    "import warnings\n",
    "warnings.filterwarnings(\"ignore\")\n",
    "from math import radians, cos, sin, asin, sqrt\n",
    "from sklearn import linear_model\n",
    "from datetime import timedelta\n",
    "from sklearn.model_selection import train_test_split\n",
    "from sklearn.metrics import r2_score"
   ]
  },
  {
   "cell_type": "code",
   "execution_count": 5,
   "metadata": {},
   "outputs": [],
   "source": [
    "data.shape\n",
    "#Creating a new column Date from the column \"start_time\" of the dataframe \n",
    "data[\"start_time\"] = pd.to_datetime(data[\"start_time\"])"
   ]
  },
  {
   "cell_type": "code",
   "execution_count": 7,
   "metadata": {},
   "outputs": [
    {
     "data": {
      "text/plain": [
       "(586779, 13)"
      ]
     },
     "execution_count": 7,
     "metadata": {},
     "output_type": "execute_result"
    }
   ],
   "source": [
    "data = data[data['end_lat'] != 0]\n",
    "data1.shape"
   ]
  },
  {
   "cell_type": "code",
   "execution_count": 83,
   "metadata": {},
   "outputs": [],
   "source": [
    "#Creating a new column Date from the column \"start_time\" of the dataframe \n",
    "data[\"Date\"] = pd.to_datetime(data[\"start_time\"])\n"
   ]
  },
  {
   "cell_type": "code",
   "execution_count": 8,
   "metadata": {},
   "outputs": [],
   "source": [
    "#Creating a copy of data since loading data takes a lot of time\n",
    "data1 = data.copy()"
   ]
  },
  {
   "cell_type": "code",
   "execution_count": null,
   "metadata": {},
   "outputs": [],
   "source": [
    "# import seaborn as sns\n",
    "# # sns.countplot(data['passholder_type'], color='gray')\n",
    "# ax = sns.countplot(x=\"passholder_type\", data= data1)"
   ]
  },
  {
   "cell_type": "code",
   "execution_count": 10,
   "metadata": {},
   "outputs": [],
   "source": [
    "#Dropping null values\n",
    "data1 = data1.dropna() \n",
    "# Converting float values to interger\n",
    "data1[\"end_station\"] = data2[\"end_station\"].astype(int)  \n",
    " #setting index to Date column\n",
    "data1 = data2.sort_index() #Arranging dates "
   ]
  },
  {
   "cell_type": "code",
   "execution_count": 84,
   "metadata": {},
   "outputs": [],
   "source": [
    "# data1.head()"
   ]
  },
  {
   "cell_type": "code",
   "execution_count": 12,
   "metadata": {},
   "outputs": [],
   "source": [
    "#length of end station is 142 and length of start station is 140\n",
    "end_stn = list(set(data1.end_station))\n",
    "start_stn = list(set(data1.start_station))\n",
    "\"\"\"As length is not same of these two list, a search method is used to identify which element \n",
    "is missing from the start station, hence the next chunk of code is to find\n",
    "the station number not in the start station list\"\"\"\n",
    "remove_stn = []\n",
    "for i in range(len(end_stn)):\n",
    "    if end_stn[i] not in start_stn:\n",
    "        remove_stn.append(end_stn[i])\n",
    "#Updating end station list\n",
    "end_stn = [stn for stn in end_stn if stn not in remove_stn]"
   ]
  },
  {
   "cell_type": "code",
   "execution_count": 13,
   "metadata": {},
   "outputs": [],
   "source": [
    "#Removing rows with station number 4110,4143 and 4118 as it is discarded from the analysis\n",
    "data1= data1[data1['end_station']!=4110]\n",
    "data1 = data1[data1['end_station']!=4118]\n",
    "data1 = data1[data1['start_station']!=4143]"
   ]
  },
  {
   "cell_type": "code",
   "execution_count": 14,
   "metadata": {},
   "outputs": [],
   "source": [
    "#Setting plan_duration = 0 for passholder_type = Walk-up\n",
    "data1['plan_duration'].loc[data1['passholder_type'] == \"Walk-up\"] = 0\n",
    "\n",
    "#Setting annual pass = flex as both of them are the same\n",
    "data1['passholder_type'].loc[data1['passholder_type'] == \"Flex Pass\"] = \"Annual Pass\""
   ]
  },
  {
   "cell_type": "code",
   "execution_count": 15,
   "metadata": {},
   "outputs": [],
   "source": [
    "#Calculating trip duration in minutes\n",
    "data1['start_time']= pd.to_datetime(data1['start_time']) \n",
    "data1['end_time']= pd.to_datetime(data1['end_time']) \n",
    "data1['trip_duration_mins'] = (data1.end_time - data1.start_time)/ timedelta(minutes=1)"
   ]
  },
  {
   "cell_type": "code",
   "execution_count": 16,
   "metadata": {},
   "outputs": [],
   "source": [
    "#Creating a copy of data since it takes time to load data\n",
    "data2 = data1.copy()\n",
    "data2 = data2[(data2['trip_duration_mins']>=0)]"
   ]
  },
  {
   "cell_type": "code",
   "execution_count": 85,
   "metadata": {},
   "outputs": [],
   "source": [
    "print(data2.shape)\n",
    "data2.head()"
   ]
  },
  {
   "cell_type": "code",
   "execution_count": null,
   "metadata": {},
   "outputs": [],
   "source": [
    "#Create dummy variables for passholder type\n",
    "one_hot_pass = pd.get_dummies(data3['passholder_type']).rename(columns={\n",
    "            'Flex Pass': 'annual',\n",
    "            'Monthly Pass': 'monthly',\n",
    "            'One Day Pass': 'one_day',\n",
    "            'Walk-up':'walk_up'})\n",
    "\n",
    "#Create dummy variables for trip route category\n",
    "one_hot_trip_type = pd.get_dummies(data3['trip_route_category']).rename(columns={\n",
    "            'Round Trip': 'round_trip',\n",
    "            'One Way': 'one_way'})"
   ]
  },
  {
   "cell_type": "code",
   "execution_count": null,
   "metadata": {},
   "outputs": [],
   "source": [
    "data2 = pd.concat([data2, one_hot_trip_type,one_hot_pass], axis=1, sort=False)"
   ]
  },
  {
   "cell_type": "code",
   "execution_count": null,
   "metadata": {},
   "outputs": [],
   "source": [
    "data2.to_csv('pricing_optimization.csv')"
   ]
  },
  {
   "cell_type": "code",
   "execution_count": null,
   "metadata": {},
   "outputs": [],
   "source": [
    "import googlemaps\n",
    "\n",
    "#Setting up my google api key\n",
    "apiKey = 'XXXXXXXXXXXXXXXXXXXXXXXXXX'\n",
    "gmaps = googlemaps.Client(key=apiKey)\n",
    "\n",
    "#Entering latitude and longitude to be used\n",
    "start_loc = \"34.04739000000001,-118.21884900000035\"\n",
    "end_loc = \"34.04652000000171,-118.23741100000254\"\n",
    "\n",
    "#Calculating distance by setting the travel mode = bicycling\n",
    "result = gmaps.distance_matrix(start_loc, end_loc, mode=\"bicycling\")\n",
    "\n",
    "#Saving Distance and duration in the variables\n",
    "dist = result[\"rows\"][0][\"elements\"][0][\"distance\"][\"value\"]\n",
    "dur = result[\"rows\"][0][\"elements\"][0][\"duration\"][\"value\"]\n",
    "dur = dur/60.0\n",
    "\n",
    "#printing results\n",
    "print(\" Cycling Distance(meters): \", dist)\n",
    "print(\" Expected Cycling Time(min): \", dur)\n",
    "print(result)"
   ]
  },
  {
   "cell_type": "code",
   "execution_count": null,
   "metadata": {},
   "outputs": [],
   "source": [
    "unique_coordinates = data2[data2['round_trip']==0]\n",
    "unique_coordinates = data2[['start_lat', 'start_lon', 'end_lat','end_lon']].drop_duplicates()\n",
    "print(unique_coordinates.shape)"
   ]
  },
  {
   "cell_type": "code",
   "execution_count": null,
   "metadata": {},
   "outputs": [],
   "source": [
    "def distance_calc(df):\n",
    "    start_loc = (df['start_lat'], df['start_lon'])\n",
    "    end_loc = (df['end_lat'], df['end_lon'])\n",
    "    #Setting up my google api key\n",
    "    apiKey = 'XXXXXXXXXXXXXXXXXXXXXXXXXXXXXXX'\n",
    "    gmaps = googlemaps.Client(key=apiKey)\n",
    "    result = gmaps.distance_matrix(start_loc, end_loc, mode=\"bicycling\")\n",
    "    dist = result[\"rows\"][0][\"elements\"][0][\"distance\"][\"value\"]\n",
    "    return dist"
   ]
  },
  {
   "cell_type": "code",
   "execution_count": null,
   "metadata": {},
   "outputs": [],
   "source": [
    "import googlemaps\n",
    "\n",
    "#Dropping rows where coordinates are 0,0 \n",
    "unique_coordinates = unique_coordinates.loc[(unique_coordinates!=0).any(axis=1)]\n",
    "\n",
    "#Calculating distance\n",
    "unique_coordinates['distance'] = unique_coordinates.head(5).apply (lambda row: distance_calc(row),axis=1)\n",
    "unique_coordinates.head(10)"
   ]
  },
  {
   "cell_type": "code",
   "execution_count": null,
   "metadata": {},
   "outputs": [],
   "source": [
    "#Calculating Distance traveled \n",
    "def calc_dist(lon1, lat1, lon2, lat2):\n",
    "    \"\"\"\n",
    "    Calculate the great circle distance between two points \n",
    "    on the earth (specified in decimal degrees)\n",
    "    \"\"\"\n",
    "    # convert decimal degrees to radians \n",
    "    lon1, lat1, lon2, lat2 = map(radians, [lon1, lat1, lon2, lat2])\n",
    "\n",
    "    # haversine formula \n",
    "    dlon = lon2 - lon1 \n",
    "    dlat = lat2 - lat1 \n",
    "    a = sin(dlat/2)**2 + cos(lat1) * cos(lat2) * sin(dlon/2)**2\n",
    "    c = 2 * asin(sqrt(a)) \n",
    "    r = 6371 # Radius of earth in kilometers. Use 3956 for miles\n",
    "    return c * r"
   ]
  },
  {
   "cell_type": "code",
   "execution_count": null,
   "metadata": {},
   "outputs": [],
   "source": [
    "data2 = data2[(data2['trip_duration_mins']>=0) & (data2['trip_duration_mins']<50)]\n",
    "data2 = data2[data2['Distance'] <50]\n",
    "data2.shape"
   ]
  },
  {
   "cell_type": "code",
   "execution_count": null,
   "metadata": {},
   "outputs": [],
   "source": [
    "month = 'month'\n",
    "week = 'week'\n",
    "day = 'day'\n",
    "hour = 'hour'\n",
    "def grouping(data,col):\n",
    "    '''\n",
    "    Stacking dataset on the basis of start_station\n",
    "    Args: data = dataframe\n",
    "          col = column name/ time frame\n",
    "    Returns: Stacked dataframe with index resetted\n",
    "    '''\n",
    "    df = data.copy()\n",
    "    df[\"Year\"]=df.start_time.dt.year\n",
    "    if col.lower() == 'month':\n",
    "        col = col.capitalize()\n",
    "        df[col] = df.start_time.dt.month\n",
    "    elif col.lower() == 'week':\n",
    "        col = col.capitalize()\n",
    "        df[col] = df.start_time.dt.week\n",
    "    elif col.lower() == 'day':\n",
    "        col = col.capitalize()\n",
    "        df[col] = df.start_time.dt.day\n",
    "    elif col.lower() == 'hour':\n",
    "        col = col.capitalize()\n",
    "        df[col] = df.start_time.dt.hour\n",
    "    else:\n",
    "        return print('Unable to extract time from index!!')\n",
    "    df_sum = df.groupby(by=[\"start_station\",\"Year\",col]).sum()[['Distance', 'trip_duration_mins']]\n",
    "    df_count = df.groupby(by=[\"start_station\",\"Year\",col]).count()[['trip_id']]\n",
    "    df = pd.concat([df_sum, df_count], axis=1)\n",
    "    df = df.reset_index()\n",
    "    return df"
   ]
  },
  {
   "cell_type": "code",
   "execution_count": null,
   "metadata": {},
   "outputs": [],
   "source": [
    "data3 = grouping(data2,month)\n",
    "#data3 = grouping(common,week)"
   ]
  },
  {
   "cell_type": "code",
   "execution_count": null,
   "metadata": {},
   "outputs": [],
   "source": [
    "data3.head(20)"
   ]
  },
  {
   "cell_type": "code",
   "execution_count": null,
   "metadata": {},
   "outputs": [],
   "source": [
    "#Setting offset for continuity in months\n",
    "data3.loc[data3['Year']==2017, 'Month'] = data3['Month']+12\n",
    "data3.loc[data3['Year']==2018, 'Month'] = data3['Month']+24"
   ]
  },
  {
   "cell_type": "code",
   "execution_count": null,
   "metadata": {},
   "outputs": [],
   "source": []
  },
  {
   "cell_type": "code",
   "execution_count": null,
   "metadata": {},
   "outputs": [],
   "source": [
    "data3 = data3[data3['start_station']!=4276]"
   ]
  },
  {
   "cell_type": "code",
   "execution_count": null,
   "metadata": {},
   "outputs": [],
   "source": [
    "station = list(set(data3.start_station))\n",
    "r_squared = []\n",
    "#Looping over all the stations to fit linear regressions individually\n",
    "for i in range(len(station)):\n",
    "    stn = station[i]\n",
    "    df = data3.loc[data3['start_station']==stn]\n",
    "    x = df[['Distance','trip_duration_mins']]\n",
    "    y = df[\"trip_id\"]\n",
    "    X_train, X_test, y_train, y_test = train_test_split(x, y, test_size=0.2, random_state=42)\n",
    "    print(X_train)\n",
    "    reg = linear_model.LinearRegression()\n",
    "    print(stn)\n",
    "    est2 = reg.fit(X_train,y_train)\n",
    "    ypred = est2.predict(x) #predicting y values on test dataset\n",
    "    score = r2_score(y,ypred) #Calculating r-squared value on the test data\n",
    "    r_squared.append(score)\n",
    "r_squared"
   ]
  },
  {
   "cell_type": "code",
   "execution_count": null,
   "metadata": {},
   "outputs": [],
   "source": [
    "df = data3.loc[data3['start_station']==4273]\n",
    "x = df[['Distance','trip_duration_mins']]\n",
    "y = df[\"trip_id\"]\n",
    "X_train, X_test, y_train, y_test = train_test_split( #Splitting data into train & test\n",
    "            x, y, test_size=0.33, random_state=42)\n",
    "reg = linear_model.LinearRegression()\n",
    "est2 = reg.fit(X_train,y_train)\n",
    "ypred = est2.predict(X_test) #predicting y values on test dataset\n",
    "score = r2_score(y_test,ypred) #Calculating r-squared value on the test data\n",
    "#r_squared.append(score)\n",
    "score"
   ]
  },
  {
   "cell_type": "code",
   "execution_count": null,
   "metadata": {},
   "outputs": [],
   "source": [
    "#Checking whether there is time series in the data\n",
    "import matplotlib.pyplot as plt\n",
    "plt.plot(df['Week'],df['trip_id'])\n",
    "plt.show()"
   ]
  }
 ],
 "metadata": {
  "kernelspec": {
   "display_name": "Python 3",
   "language": "python",
   "name": "python3"
  },
  "language_info": {
   "codemirror_mode": {
    "name": "ipython",
    "version": 3
   },
   "file_extension": ".py",
   "mimetype": "text/x-python",
   "name": "python",
   "nbconvert_exporter": "python",
   "pygments_lexer": "ipython3",
   "version": "3.7.0"
  }
 },
 "nbformat": 4,
 "nbformat_minor": 2
}
