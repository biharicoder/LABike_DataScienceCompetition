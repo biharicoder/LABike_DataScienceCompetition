{
 "cells": [
  {
   "cell_type": "markdown",
   "metadata": {},
   "source": [
    "Importing required packages"
   ]
  },
  {
   "cell_type": "code",
   "execution_count": 1,
   "metadata": {},
   "outputs": [],
   "source": [
    "import pandas as pd\n",
    "import math\n",
    "import datetime as dt\n",
    "%matplotlib inline\n",
    "import matplotlib.pyplot as plt\n",
    "import numpy as np"
   ]
  },
  {
   "cell_type": "markdown",
   "metadata": {},
   "source": [
    "Collecting all the quarterly data for analysis"
   ]
  },
  {
   "cell_type": "code",
   "execution_count": 2,
   "metadata": {},
   "outputs": [],
   "source": [
    "df1 = pd.read_csv('q3_2016.csv')\n",
    "df1['duration'] = df1['duration'].div(60) #Changing unit of trip duration to minutes for consistency\n",
    "df2 = pd.read_csv('q4_2016.csv')\n",
    "df2['duration'] = df2['duration'].div(60)\n",
    "df3 = pd.read_csv('q1_2017.csv')\n",
    "df3['duration'] = df3['duration'].div(60)\n",
    "df4 = pd.read_csv('q2_2017.csv')\n",
    "df4['duration'] = df4['duration'].div(60)\n",
    "df5 = pd.read_csv('q3_2017.csv')\n",
    "df6 = pd.read_csv('q4_2017.csv')\n",
    "df7 = pd.read_csv('q1_2018.csv')\n",
    "df8 = pd.read_csv('q2_2018.csv')\n",
    "\n",
    "df = pd.concat([df1,df2,df3,df4,df5,df6,df7,df8],sort=True)"
   ]
  },
  {
   "cell_type": "code",
   "execution_count": 3,
   "metadata": {},
   "outputs": [],
   "source": [
    "#Filtering duration values by limiting it from 0 to 180\n",
    "df = df[(df['duration']>=0) & (df['duration']<180)]"
   ]
  },
  {
   "cell_type": "code",
   "execution_count": 4,
   "metadata": {},
   "outputs": [
    {
     "data": {
      "text/plain": [
       "(461582, 16)"
      ]
     },
     "execution_count": 4,
     "metadata": {},
     "output_type": "execute_result"
    }
   ],
   "source": [
    "df.shape"
   ]
  },
  {
   "cell_type": "code",
   "execution_count": 5,
   "metadata": {},
   "outputs": [],
   "source": [
    "#Creating 30 mins time block that walk-up users have to pay for\n",
    "df['time_block_count'] = df['duration'].apply(lambda duration: math.ceil(duration/30))\n",
    "\n",
    "#Creating another feature for 30 minute blocks for passholders that excludes first 30 mintues\n",
    "df['time_block_count_post_free'] = df['duration'].apply(lambda duration: math.ceil(duration/30))-1"
   ]
  },
  {
   "cell_type": "markdown",
   "metadata": {},
   "source": [
    "# Previous Pricing Model"
   ]
  },
  {
   "cell_type": "code",
   "execution_count": 6,
   "metadata": {},
   "outputs": [
    {
     "data": {
      "text/html": [
       "<div>\n",
       "<style scoped>\n",
       "    .dataframe tbody tr th:only-of-type {\n",
       "        vertical-align: middle;\n",
       "    }\n",
       "\n",
       "    .dataframe tbody tr th {\n",
       "        vertical-align: top;\n",
       "    }\n",
       "\n",
       "    .dataframe thead th {\n",
       "        text-align: right;\n",
       "    }\n",
       "</style>\n",
       "<table border=\"1\" class=\"dataframe\">\n",
       "  <thead>\n",
       "    <tr style=\"text-align: right;\">\n",
       "      <th></th>\n",
       "      <th>total_trips</th>\n",
       "      <th>total_30min_blocks</th>\n",
       "      <th>total_30min_blocks_post_free</th>\n",
       "      <th>total_minutes</th>\n",
       "    </tr>\n",
       "    <tr>\n",
       "      <th>passholder_type</th>\n",
       "      <th></th>\n",
       "      <th></th>\n",
       "      <th></th>\n",
       "      <th></th>\n",
       "    </tr>\n",
       "  </thead>\n",
       "  <tbody>\n",
       "    <tr>\n",
       "      <th>Flex Pass</th>\n",
       "      <td>22723</td>\n",
       "      <td>24349</td>\n",
       "      <td>1626</td>\n",
       "      <td>2.251768e+05</td>\n",
       "    </tr>\n",
       "    <tr>\n",
       "      <th>Monthly Pass</th>\n",
       "      <td>284049</td>\n",
       "      <td>296319</td>\n",
       "      <td>12270</td>\n",
       "      <td>2.523838e+06</td>\n",
       "    </tr>\n",
       "    <tr>\n",
       "      <th>One Day Pass</th>\n",
       "      <td>14836</td>\n",
       "      <td>28370</td>\n",
       "      <td>13534</td>\n",
       "      <td>6.299470e+05</td>\n",
       "    </tr>\n",
       "    <tr>\n",
       "      <th>Walk-up</th>\n",
       "      <td>139974</td>\n",
       "      <td>212148</td>\n",
       "      <td>72174</td>\n",
       "      <td>3.871049e+06</td>\n",
       "    </tr>\n",
       "  </tbody>\n",
       "</table>\n",
       "</div>"
      ],
      "text/plain": [
       "                 total_trips  total_30min_blocks  \\\n",
       "passholder_type                                    \n",
       "Flex Pass              22723               24349   \n",
       "Monthly Pass          284049              296319   \n",
       "One Day Pass           14836               28370   \n",
       "Walk-up               139974              212148   \n",
       "\n",
       "                 total_30min_blocks_post_free  total_minutes  \n",
       "passholder_type                                               \n",
       "Flex Pass                                1626   2.251768e+05  \n",
       "Monthly Pass                            12270   2.523838e+06  \n",
       "One Day Pass                            13534   6.299470e+05  \n",
       "Walk-up                                 72174   3.871049e+06  "
      ]
     },
     "execution_count": 6,
     "metadata": {},
     "output_type": "execute_result"
    }
   ],
   "source": [
    "old_agg_pass_groups = pd.DataFrame()\n",
    "old_agg_pass_groups = df.groupby('passholder_type').agg({\n",
    "    'trip_id' : 'count',\n",
    "    #'Walk-up' : 'sum',\n",
    "    'time_block_count' : 'sum',\n",
    "    'time_block_count_post_free' : 'sum',\n",
    "    'duration' : 'sum'\n",
    "}).rename(columns = {\n",
    "    'trip_id' : 'total_trips',\n",
    "    #'Walk-up' : 'pay_count_walk_up',\n",
    "    'time_block_count' : 'total_30min_blocks',\n",
    "    'time_block_count_post_free' : 'total_30min_blocks_post_free',\n",
    "    'duration' : 'total_minutes'\n",
    "}).reset_index()\n",
    "old_agg_pass_groups.index = old_agg_pass_groups['passholder_type']\n",
    "old_agg_pass_groups = old_agg_pass_groups.drop('passholder_type',1)\n",
    "old_agg_pass_groups"
   ]
  },
  {
   "cell_type": "markdown",
   "metadata": {},
   "source": [
    "There is no unique identifier for passholders so the number of passes sold can’t be inferred from data itself. Total number of passes sold since January 2016 is 67,013 in 3 year period so it would be safe to expect roughly 20,000 passes sold during the year-long period for first two years and the remaining during the last year. The sales of each pass type would be estimated from a breakeven perspective i.e the average number of trips needed to cover the price of a pass. \n",
    "\n",
    "The breakeven analysis is conducted for trips under 30 minutes since the median trip duration is 12 minutes. Number of rides to break even is calculated by dividing the pass price by the difference in the price to ride without pass and the price to ride with pass. Then, the number of passes sold is estimated by dividing the total number of rides by the number of rides to break even. \n"
   ]
  },
  {
   "cell_type": "code",
   "execution_count": 7,
   "metadata": {},
   "outputs": [
    {
     "name": "stdout",
     "output_type": "stream",
     "text": [
      " Rides per day required for daily pass: 2.0 \n",
      " Rides per month required for monthly pass: 5.714285714285714 \n",
      " Rides per year required for annual pass: 22.857142857142858\n"
     ]
    }
   ],
   "source": [
    "## PREVIOUS PRICING MODEL\n",
    "# Rides to break even = Pass price / (Price to ride without pass - Price to ride with pass)\n",
    "# Passes sold = Total rides / Rides to break even\n",
    "\n",
    "price_wo_pass = 3.5\n",
    "price_w_pass_day = 0\n",
    "price_w_pass_month = 0\n",
    "price_w_pass_annual = 1.75\n",
    "\n",
    "# Average difference between passholders and walk-up riders across previous and current pricing.\n",
    "# This is represented by the difference in prices per 30 minute block since pass holders get the first 30 minutes free.\n",
    "# As current data is from before the price change, previous prices are used to estimate number of passes.\n",
    "\n",
    "day_diff = price_wo_pass - price_w_pass_day\n",
    "month_diff = price_wo_pass - price_w_pass_month\n",
    "annual_diff = price_wo_pass - price_w_pass_annual\n",
    "\n",
    "# Prices of passes.\n",
    "\n",
    "day_pass_price = 7\n",
    "month_pass_price = 20\n",
    "annual_pass_price = 40\n",
    "\n",
    "# Estimated rides required for breakeven.\n",
    "\n",
    "rides_day_pass_estimate = day_pass_price / day_diff\n",
    "rides_month_pass_estimate = month_pass_price / month_diff\n",
    "rides_annual_pass_estimate = annual_pass_price / annual_diff\n",
    "\n",
    "print(\" Rides per day required for daily pass:\",rides_day_pass_estimate,'\\n', \n",
    "      \"Rides per month required for monthly pass:\", rides_month_pass_estimate,'\\n', \n",
    "      \"Rides per year required for annual pass:\", rides_annual_pass_estimate)"
   ]
  },
  {
   "cell_type": "markdown",
   "metadata": {},
   "source": [
    "Rides per day required for daily pass: 2.0 \n",
    " Rides per month required for monthly pass: 5.714285714285714 \n",
    " Rides per year required for annual pass: 22.857142857142858\n",
    "Looking at the number of rides required of breakeven and assessing the numbers, the numbers seem to be on the low side.\n",
    "\n",
    "Daily pass holders are likely to perform more than a round trip if they were purchasing a day pass.\n",
    "\n",
    "Monthly pass holders are likely to be the occasional commuters and even at a conservative 2 rides/week to work would tally 8 rides a month.\n",
    "\n",
    "Annual pass holders are the hardest to gauge due to the low $40 price point of the flex point from the previous pricing plan. For now, they'll be scaled to the same factor as day and monthly pass numbers.\n",
    "\n",
    "Scaling daily passes up to a conservative 3 rides is a 50% increase in rides while scaling monthly rides up to a conservative 8 rides is a 40% increase. For conservative estimates, we scale the three estimates by a common factor of 40%."
   ]
  },
  {
   "cell_type": "code",
   "execution_count": 8,
   "metadata": {},
   "outputs": [
    {
     "name": "stdout",
     "output_type": "stream",
     "text": [
      "Rides per day required for daily pass (scaled): 2.8 \n",
      " Rides per month required for monthly pass (scaled): 8.0 \n",
      " Rides per year required for annual pass (scaled): 32.0\n"
     ]
    }
   ],
   "source": [
    "rides_day_pass_estimate *= 1.4\n",
    "rides_month_pass_estimate *= 1.4\n",
    "rides_annual_pass_estimate *= 1.4\n",
    "\n",
    "print(\"Rides per day required for daily pass (scaled):\",rides_day_pass_estimate,'\\n', \n",
    "      \"Rides per month required for monthly pass (scaled):\", rides_month_pass_estimate,'\\n', \n",
    "      \"Rides per year required for annual pass (scaled):\", rides_annual_pass_estimate)"
   ]
  },
  {
   "cell_type": "code",
   "execution_count": 9,
   "metadata": {},
   "outputs": [
    {
     "name": "stdout",
     "output_type": "stream",
     "text": [
      "Estimated passes sold for daily pass: 5299 \n",
      " Estimated passes sold for monthly pass: 35507 \n",
      " Estimated passes sold for annual pass: 711 \n",
      " Total passes sold: 41517\n"
     ]
    }
   ],
   "source": [
    "# Divide total trips by rides required for breakeven per pass duration (day/month/year) to get estimated number\n",
    "# of passholders.\n",
    "\n",
    "passes_sold_day = math.ceil(old_agg_pass_groups.loc['One Day Pass','total_trips']/rides_day_pass_estimate)\n",
    "passes_sold_month = math.ceil(old_agg_pass_groups.loc['Monthly Pass','total_trips']/rides_month_pass_estimate)\n",
    "passes_sold_annual = math.ceil(old_agg_pass_groups.loc['Flex Pass','total_trips']/rides_annual_pass_estimate)\n",
    "passes_sold_total = passes_sold_day + passes_sold_month + passes_sold_annual\n",
    "\n",
    "old_agg_pass_groups['passes_sold'] = [passes_sold_annual, passes_sold_month, passes_sold_day, 0]\n",
    "\n",
    "print(\"Estimated passes sold for daily pass:\",passes_sold_day,'\\n', \n",
    "      \"Estimated passes sold for monthly pass:\", passes_sold_month,'\\n', \n",
    "      \"Estimated passes sold for annual pass:\", passes_sold_annual,'\\n',\n",
    "     \"Total passes sold:\", passes_sold_total)"
   ]
  },
  {
   "cell_type": "markdown",
   "metadata": {},
   "source": [
    "This is roughly inline with the previous estimate of 20,000 per year since 41,517 is the estimate for 2 year period. \n",
    "\n",
    "The objective function for this optimization model to maximum total revenue from pass sales and rides is formulated.\n",
    "\n",
    "The total revenue can be split into the following:\n",
    "\n",
    "Total revenue from walk up users = Price for 30 minutes of usage * Total 30 minute blocks by walk up users\n",
    "Total revenue from day, month pass users = Price for 30 minutes of usage * Total 30 minute blocks after free first 30 minutes\n",
    "Total revenue from selling passes = Prices of respective passes * Total passes sold in respective pass types\n",
    "Now this objective function can be represented in PuLP."
   ]
  },
  {
   "cell_type": "code",
   "execution_count": 10,
   "metadata": {},
   "outputs": [
    {
     "data": {
      "text/html": [
       "<div>\n",
       "<style scoped>\n",
       "    .dataframe tbody tr th:only-of-type {\n",
       "        vertical-align: middle;\n",
       "    }\n",
       "\n",
       "    .dataframe tbody tr th {\n",
       "        vertical-align: top;\n",
       "    }\n",
       "\n",
       "    .dataframe thead th {\n",
       "        text-align: right;\n",
       "    }\n",
       "</style>\n",
       "<table border=\"1\" class=\"dataframe\">\n",
       "  <thead>\n",
       "    <tr style=\"text-align: right;\">\n",
       "      <th></th>\n",
       "      <th>total_trips</th>\n",
       "      <th>total_30min_blocks</th>\n",
       "      <th>total_30min_blocks_post_free</th>\n",
       "      <th>total_minutes</th>\n",
       "      <th>passes_sold</th>\n",
       "      <th>previous_pass_prices</th>\n",
       "      <th>new_pass_prices</th>\n",
       "      <th>average_charged_blocks_per_ride</th>\n",
       "      <th>percent_total_trips</th>\n",
       "    </tr>\n",
       "    <tr>\n",
       "      <th>passholder_type</th>\n",
       "      <th></th>\n",
       "      <th></th>\n",
       "      <th></th>\n",
       "      <th></th>\n",
       "      <th></th>\n",
       "      <th></th>\n",
       "      <th></th>\n",
       "      <th></th>\n",
       "      <th></th>\n",
       "    </tr>\n",
       "  </thead>\n",
       "  <tbody>\n",
       "    <tr>\n",
       "      <th>Flex Pass</th>\n",
       "      <td>22723</td>\n",
       "      <td>24349</td>\n",
       "      <td>1626</td>\n",
       "      <td>2.251768e+05</td>\n",
       "      <td>711</td>\n",
       "      <td>40</td>\n",
       "      <td>150</td>\n",
       "      <td>0.071557</td>\n",
       "      <td>0.049229</td>\n",
       "    </tr>\n",
       "    <tr>\n",
       "      <th>Monthly Pass</th>\n",
       "      <td>284049</td>\n",
       "      <td>296319</td>\n",
       "      <td>12270</td>\n",
       "      <td>2.523838e+06</td>\n",
       "      <td>35507</td>\n",
       "      <td>20</td>\n",
       "      <td>17</td>\n",
       "      <td>0.043197</td>\n",
       "      <td>0.615381</td>\n",
       "    </tr>\n",
       "    <tr>\n",
       "      <th>One Day Pass</th>\n",
       "      <td>14836</td>\n",
       "      <td>28370</td>\n",
       "      <td>13534</td>\n",
       "      <td>6.299470e+05</td>\n",
       "      <td>5299</td>\n",
       "      <td>7</td>\n",
       "      <td>5</td>\n",
       "      <td>0.912240</td>\n",
       "      <td>0.032142</td>\n",
       "    </tr>\n",
       "    <tr>\n",
       "      <th>Walk-up</th>\n",
       "      <td>139974</td>\n",
       "      <td>212148</td>\n",
       "      <td>72174</td>\n",
       "      <td>3.871049e+06</td>\n",
       "      <td>0</td>\n",
       "      <td>0</td>\n",
       "      <td>0</td>\n",
       "      <td>0.515624</td>\n",
       "      <td>0.303248</td>\n",
       "    </tr>\n",
       "  </tbody>\n",
       "</table>\n",
       "</div>"
      ],
      "text/plain": [
       "                 total_trips  total_30min_blocks  \\\n",
       "passholder_type                                    \n",
       "Flex Pass              22723               24349   \n",
       "Monthly Pass          284049              296319   \n",
       "One Day Pass           14836               28370   \n",
       "Walk-up               139974              212148   \n",
       "\n",
       "                 total_30min_blocks_post_free  total_minutes  passes_sold  \\\n",
       "passholder_type                                                             \n",
       "Flex Pass                                1626   2.251768e+05          711   \n",
       "Monthly Pass                            12270   2.523838e+06        35507   \n",
       "One Day Pass                            13534   6.299470e+05         5299   \n",
       "Walk-up                                 72174   3.871049e+06            0   \n",
       "\n",
       "                 previous_pass_prices  new_pass_prices  \\\n",
       "passholder_type                                          \n",
       "Flex Pass                          40              150   \n",
       "Monthly Pass                       20               17   \n",
       "One Day Pass                        7                5   \n",
       "Walk-up                             0                0   \n",
       "\n",
       "                 average_charged_blocks_per_ride  percent_total_trips  \n",
       "passholder_type                                                        \n",
       "Flex Pass                               0.071557             0.049229  \n",
       "Monthly Pass                            0.043197             0.615381  \n",
       "One Day Pass                            0.912240             0.032142  \n",
       "Walk-up                                 0.515624             0.303248  "
      ]
     },
     "execution_count": 10,
     "metadata": {},
     "output_type": "execute_result"
    }
   ],
   "source": [
    "old_agg_pass_groups['previous_pass_prices'] = [40, 20, 7, 0]\n",
    "old_agg_pass_groups['new_pass_prices'] = [150,17, 5, 0]\n",
    "old_agg_pass_groups['average_charged_blocks_per_ride'] = old_agg_pass_groups['total_30min_blocks_post_free'] / old_agg_pass_groups['total_trips']\n",
    "old_agg_pass_groups['percent_total_trips'] = old_agg_pass_groups['total_trips']/sum(old_agg_pass_groups['total_trips'])\n",
    "old_agg_pass_groups"
   ]
  },
  {
   "cell_type": "markdown",
   "metadata": {},
   "source": [
    "A quick calculation is run to see what the current total revenue is with the estimated number of passholders over the past year.\n",
    "\n",
    "The old pricing scheme is used here to estimate the price. Here, annual passholders pay dollar 40 a year for a flex pass and dollar 1.75 for every half hour. The first half hour is not free."
   ]
  },
  {
   "cell_type": "code",
   "execution_count": 11,
   "metadata": {},
   "outputs": [
    {
     "name": "stdout",
     "output_type": "stream",
     "text": [
      "Total revenue under old pricing model: $ 1479654.25\n"
     ]
    }
   ],
   "source": [
    "old_tot_rev = ((3.5 * old_agg_pass_groups['total_trips']['Walk-up'])\n",
    "                   + sum(1.75 * old_agg_pass_groups['total_30min_blocks_post_free'])\n",
    "                   + 1.75 * (old_agg_pass_groups['total_30min_blocks'] ['Flex Pass']\n",
    "                                            - old_agg_pass_groups['total_30min_blocks_post_free']['Flex Pass'])\n",
    "                   + sum(old_agg_pass_groups['passes_sold'] * old_agg_pass_groups['previous_pass_prices']))\n",
    "print('Total revenue under old pricing model: $', old_tot_rev)"
   ]
  },
  {
   "cell_type": "markdown",
   "metadata": {},
   "source": [
    "## Basic linear optimization\n",
    "\n",
    "\n",
    "Binary variables for each plan are created and a basic optimization is run over the previous price plans.\n",
    "\n",
    "Given that riders have already been complaining about the $3.50 per half hour block rate, any dropping of passes in the past pricing scheme would have led to a precipitous drop in ridership. Furthermore, given the fierce competition in the area of bike and scooter sharing, the dropping of certain passes could simply lead to riders moving to other competitors.\n",
    "\n",
    "A baseline attrition of 30% for each category is assumed and the parameters adjusted as the model is run."
   ]
  },
  {
   "cell_type": "code",
   "execution_count": 12,
   "metadata": {},
   "outputs": [],
   "source": [
    "from pulp import *"
   ]
  },
  {
   "cell_type": "code",
   "execution_count": 13,
   "metadata": {},
   "outputs": [
    {
     "name": "stdout",
     "output_type": "stream",
     "text": [
      "Status: Optimal\n",
      "Optimal Solution to the problem:  1614687.75\n",
      "Individual decision_variables: \n",
      "annual_no = 0.0\n",
      "annual_yes = 1.0\n",
      "day_no = 1.0\n",
      "day_yes = 0.0\n",
      "month_no = 0.0\n",
      "month_yes = 1.0\n"
     ]
    }
   ],
   "source": [
    "previous_walk_up = 3.5\n",
    "previous_pass = 1.75\n",
    "\n",
    "# Model version 1 for previous pricing\n",
    "\n",
    "model_v1 = pulp.LpProblem(\"Revenue Maximization Previous\", pulp.LpMaximize)\n",
    "\n",
    "# List of all binary variables.\n",
    "\n",
    "day_yes = pulp.LpVariable('day_yes', cat='Binary')\n",
    "\n",
    "day_no = pulp.LpVariable('day_no', cat='Binary')\n",
    "\n",
    "month_yes = pulp.LpVariable('month_yes', cat='Binary')\n",
    "\n",
    "month_no = pulp.LpVariable('month_no', cat='Binary')\n",
    "\n",
    "annual_yes = pulp.LpVariable('annual_yes', cat='Binary')\n",
    "\n",
    "annual_no = pulp.LpVariable('annual_no', cat='Binary')\n",
    "\n",
    "# Objective function.\n",
    "# Revenue for walk ups\n",
    "walk_up_rev_block = previous_walk_up * old_agg_pass_groups.loc['Walk-up','total_30min_blocks']\n",
    "\n",
    "# Revenue for pass sales.\n",
    "trip_rev_day_pass = old_agg_pass_groups.loc['One Day Pass', 'total_30min_blocks_post_free'] * day_yes * previous_pass\n",
    "trip_rev_month_pass = old_agg_pass_groups.loc['Monthly Pass', 'total_30min_blocks_post_free'] * month_yes * previous_pass\n",
    "trip_rev_annual_pass = old_agg_pass_groups.loc['Flex Pass', 'total_30min_blocks'] * annual_yes * previous_pass\n",
    "\n",
    "# Revenue for pass sales is pass is cancelled.\n",
    "trip_rev_day_no_pass = old_agg_pass_groups.loc['One Day Pass', 'total_30min_blocks'] * previous_walk_up * day_no * 0.7\n",
    "trip_rev_month_no_pass = old_agg_pass_groups.loc['Monthly Pass', 'total_30min_blocks'] * previous_walk_up * month_no * 0.7\n",
    "trip_rev_annual_no_pass = old_agg_pass_groups.loc['Flex Pass', 'total_30min_blocks'] * previous_walk_up * annual_no * 0.7\n",
    "\n",
    "# Revenue for sales of passes.\n",
    "pass_sales_rev_day = (day_yes * old_agg_pass_groups.loc['One Day Pass','previous_pass_prices'] \n",
    "                      * old_agg_pass_groups.loc['One Day Pass','passes_sold'])\n",
    "pass_sales_rev_month = (month_yes * old_agg_pass_groups.loc['Monthly Pass','previous_pass_prices'] \n",
    "                        * old_agg_pass_groups.loc['Monthly Pass','passes_sold'])\n",
    "pass_sales_rev_annual = (annual_yes * old_agg_pass_groups.loc['Flex Pass','previous_pass_prices'] \n",
    "                         * old_agg_pass_groups.loc['Flex Pass','passes_sold'])\n",
    "\n",
    "# Adding objective function to model\n",
    "model_v1 += pulp.lpSum(walk_up_rev_block + trip_rev_day_pass + trip_rev_day_no_pass + trip_rev_month_pass \n",
    "                       + trip_rev_month_no_pass + trip_rev_annual_pass + trip_rev_annual_no_pass \n",
    "                       + pass_sales_rev_day + pass_sales_rev_month + pass_sales_rev_annual)\n",
    "\n",
    "# Constraints such that only one of each binary pair can be true.\n",
    "model_v1 += day_yes + day_no == 1\n",
    "model_v1 += month_yes + month_no == 1\n",
    "model_v1 += annual_yes + annual_no == 1\n",
    "\n",
    "optimization_result = model_v1.solve()\n",
    "\n",
    "assert optimization_result == pulp.LpStatusOptimal\n",
    "print(\"Status:\", LpStatus[model_v1.status])\n",
    "print(\"Optimal Solution to the problem: \", value(model_v1.objective))\n",
    "print (\"Individual decision_variables: \")\n",
    "for v in model_v1.variables():\n",
    "    print(v.name, \"=\", v.varValue)"
   ]
  },
  {
   "cell_type": "code",
   "execution_count": 14,
   "metadata": {},
   "outputs": [
    {
     "name": "stdout",
     "output_type": "stream",
     "text": [
      "Revenue Maximization Previous:\n",
      "MAXIMIZE\n",
      "59655.049999999996*annual_no + 71050.75*annual_yes + 69506.5*day_no + 60777.5*day_yes + 725981.5499999999*month_no + 731612.5*month_yes + 742518.0\n",
      "SUBJECT TO\n",
      "_C1: day_no + day_yes = 1\n",
      "\n",
      "_C2: month_no + month_yes = 1\n",
      "\n",
      "_C3: annual_no + annual_yes = 1\n",
      "\n",
      "VARIABLES\n",
      "0 <= annual_no <= 1 Integer\n",
      "0 <= annual_yes <= 1 Integer\n",
      "0 <= day_no <= 1 Integer\n",
      "0 <= day_yes <= 1 Integer\n",
      "0 <= month_no <= 1 Integer\n",
      "0 <= month_yes <= 1 Integer\n",
      "\n"
     ]
    }
   ],
   "source": [
    "print(model_v1)"
   ]
  },
  {
   "cell_type": "markdown",
   "metadata": {},
   "source": [
    "## Optimization Using additional information"
   ]
  },
  {
   "cell_type": "markdown",
   "metadata": {},
   "source": [
    "As seen from competitors, there are multiple ways in which the pricing scheme can be structured. Some options that we could implement and compare are as follows:\n",
    "\n",
    "1) Variable rate by minute\n",
    "\n",
    "2) Variable rate by time intervals (30 minutes for LA Metro currently)\n",
    "\n",
    "3) Fixed fee for any ride\n",
    "\n",
    "4) Fixed fee for a time interval before implementing a variable rate \n",
    "\n",
    "5) Weekly, monthly passes that cover all rides up to a particular duration. Variable rate thereafter\n",
    "\n",
    "The current model by LA metro is examined and compared with other competitors in the market. To benchmark the pricing against other operators of bikes and scooters, the different pricing curves for all operators are plotted."
   ]
  },
  {
   "cell_type": "code",
   "execution_count": 24,
   "metadata": {},
   "outputs": [
    {
     "data": {
      "image/png": "[encoded data removed]",
      "text/plain": [
       "<Figure size 720x360 with 1 Axes>"
      ]
     },
     "metadata": {
      "needs_background": "light"
     },
     "output_type": "display_data"
    }
   ],
   "source": [
    "fig, axes = plt.subplots(figsize=(10,5))\n",
    "x = np.array(range(0,60))\n",
    "prev_la, = plt.step([0,30,60], [0,3.5,7], label = 'Previous LA Metro Bike')\n",
    "cur_la, = plt.step([0,30,60], [0,1.75,3.5], label = 'Current LA Metro Bike')\n",
    "bird, = plt.plot(x, 0.15 * x, label = 'Bird')\n",
    "lime_ped, = plt.plot(x, 1 + 0.05 * x, label = 'Lime Pedal Bike')\n",
    "lime_scoot, = plt.plot(x, 1 + 0.15 * x, label = 'Lime Electric Assist Bike/Scooter')\n",
    "jump1, = plt.step([0,5],[0,1],label = 'Jump Bikes/Scooters',color = 'c')\n",
    "jump2, = plt.plot(np.array(range(5,60)), 0.15 * np.array(range(5,60)) + 0.25, color = 'c')\n",
    "plt.title('Prices of trips up to 60 minutes for different operators', size=15)\n",
    "plt.xlabel('Duration of trip (minutes)')\n",
    "plt.ylabel('Price of trip ($)')\n",
    "plt.legend()\n",
    "plt.show()"
   ]
  },
  {
   "cell_type": "markdown",
   "metadata": {},
   "source": [
    "It can be observed from the above plot that the current pricing model enacted by LA Metro is one of cheapest being $3.5 for an hour-long bike ride. For rides shorter than 15 minutes and between 30 to 50 minutes, Lime pedal bike is the cheapest. These values are used to set up upper bound on prices to be used in the optimization model. \n",
    "\n",
    "1.\tThe variable rate per minute without a pass is set under the average of the two most common prices of 0.05 and 0.15:\n",
    "\n",
    "Variable rate per minute without pass <= $0.10\n",
    "\n",
    "2.\tThe variable rate per minute with a plan is set under the average of the LA Metro’s current 0.06 and Jump’s $0.07:\n",
    "\n",
    "Variable rate per minute with pass <= $0.065\n",
    "\n",
    "3.\tThe variable rate per 30 minutes is set under the nearest competitor(Lime pedal):\n",
    "\n",
    "Variable rate per 30 minutes <= $2.5\n"
   ]
  },
  {
   "cell_type": "markdown",
   "metadata": {},
   "source": [
    "### Quadratic Optimization\n",
    "Judging from the above linear optimization results, we keep the daily and monthly plans in our pricing scheme. We will also replace the previous annual (Flex) plan with the new plan costing $150 per annum.\n",
    "\n",
    "The total revenue would be optimized for two main factors: price and number of rides.  If a simple linear optimization with an upper bound for price was run, it would intuitively move towards the upper bound for optimization so a demand curve that would vary total rides taken along with the prices charged for each hour block is taken into consideration. "
   ]
  },
  {
   "cell_type": "markdown",
   "metadata": {},
   "source": [
    "##### Demand curves by customer segments\n",
    "Demand is broken down by customer segments?\n",
    "\n",
    "Grouped tables are created across 2018 Q2 and 2018 Q3."
   ]
  },
  {
   "cell_type": "code",
   "execution_count": 25,
   "metadata": {},
   "outputs": [],
   "source": [
    "#new_data = pd.read_csv('../data/external/2018Q3.csv')\n",
    "#old_data = pd.read_csv('../data/external/2018Q2.csv')\n",
    "df1 = pd.read_csv('q1_2018.csv')\n",
    "df2 = pd.read_csv('q2_2018.csv')\n",
    "df3 = pd.read_csv('q3_2018.csv')\n",
    "df4 = pd.read_csv('q4_2018.csv')\n",
    "\n",
    "old_data = pd.concat([df1,df2],sort=True)\n",
    "new_data = pd.concat([df3,df4],sort=True)\n",
    "#Setting annual pass = flex as both of them are the same\n",
    "new_data['passholder_type'].loc[new_data['passholder_type'] == \"Annual Pass\"] = \"Flex Pass\""
   ]
  },
  {
   "cell_type": "markdown",
   "metadata": {},
   "source": [
    "#### Demand curve estimation\n",
    "\n",
    "2018 Q1 and Q2 would be considered for data before the price change and Q3 and Q4 would be considered for data after the price change since 2018 Q2 was the last datapoint before the price change and 2018 Q3 was the first after. We set y as price for every 30 minute ride and x as the total number of rides in that quarter."
   ]
  },
  {
   "cell_type": "code",
   "execution_count": 26,
   "metadata": {},
   "outputs": [
    {
     "name": "stdout",
     "output_type": "stream",
     "text": [
      "The linear function from two data points is: y = -6.627281678406423e-05 x + 12.960046959024465\n",
      "Where y = price for half hour block\n",
      "      x = rides in fiscal quarter\n",
      "142744 169150\n"
     ]
    }
   ],
   "source": [
    "x1 = old_data.shape[0]\n",
    "x2 = new_data.shape[0]\n",
    "y1 = 3.5\n",
    "y2 = 1.75\n",
    "\n",
    "slope = (y2-y1)/(x2-x1)\n",
    "intercept = y2 - x2 * slope\n",
    "\n",
    "def print_func(slope, intercept):\n",
    "    print('The linear function from two data points is: y =',slope,'x +',intercept)\n",
    "    print('Where y = price for half hour block\\n      x = rides in fiscal quarter')\n",
    "\n",
    "print_func(slope, intercept)\n",
    "print(x1,x2)"
   ]
  },
  {
   "cell_type": "code",
   "execution_count": 27,
   "metadata": {},
   "outputs": [],
   "source": [
    "#Creating 30 mins time block that walk-up users have to pay for\n",
    "old_data['time_block_count'] = old_data['duration'].apply(lambda duration: math.ceil(duration/30))\n",
    "\n",
    "#Creating another feature for 30 minute blocks for passholders that excludes first 30 mintues\n",
    "old_data['time_block_count_post_free'] = old_data['duration'].apply(lambda duration: math.ceil(duration/30))-1\n",
    "\n",
    "#Creating 30 mins time block that walk-up users have to pay for\n",
    "new_data['time_block_count'] = new_data['duration'].apply(lambda duration: math.ceil(duration/30))\n",
    "\n",
    "#Creating another feature for 30 minute blocks for passholders that excludes first 30 mintues\n",
    "new_data['time_block_count_post_free'] = new_data['duration'].apply(lambda duration: math.ceil(duration/30))-1"
   ]
  },
  {
   "cell_type": "markdown",
   "metadata": {},
   "source": [
    "### Comparison of the number of rides in each category between the old and new pricing model"
   ]
  },
  {
   "cell_type": "code",
   "execution_count": 37,
   "metadata": {},
   "outputs": [
    {
     "name": "stdout",
     "output_type": "stream",
     "text": [
      "Number of trips in the old pricing model for Q1 & Q2 in 2018\n"
     ]
    },
    {
     "data": {
      "text/html": [
       "<div>\n",
       "<style scoped>\n",
       "    .dataframe tbody tr th:only-of-type {\n",
       "        vertical-align: middle;\n",
       "    }\n",
       "\n",
       "    .dataframe tbody tr th {\n",
       "        vertical-align: top;\n",
       "    }\n",
       "\n",
       "    .dataframe thead th {\n",
       "        text-align: right;\n",
       "    }\n",
       "</style>\n",
       "<table border=\"1\" class=\"dataframe\">\n",
       "  <thead>\n",
       "    <tr style=\"text-align: right;\">\n",
       "      <th></th>\n",
       "      <th>total_trips</th>\n",
       "      <th>total_minutes</th>\n",
       "      <th>percent_total_trips</th>\n",
       "    </tr>\n",
       "    <tr>\n",
       "      <th>passholder_type</th>\n",
       "      <th></th>\n",
       "      <th></th>\n",
       "      <th></th>\n",
       "    </tr>\n",
       "  </thead>\n",
       "  <tbody>\n",
       "    <tr>\n",
       "      <th>Flex Pass</th>\n",
       "      <td>4599</td>\n",
       "      <td>94530</td>\n",
       "      <td>0.032219</td>\n",
       "    </tr>\n",
       "    <tr>\n",
       "      <th>Monthly Pass</th>\n",
       "      <td>80644</td>\n",
       "      <td>1326849</td>\n",
       "      <td>0.564955</td>\n",
       "    </tr>\n",
       "    <tr>\n",
       "      <th>One Day Pass</th>\n",
       "      <td>10238</td>\n",
       "      <td>716319</td>\n",
       "      <td>0.071723</td>\n",
       "    </tr>\n",
       "    <tr>\n",
       "      <th>Walk-up</th>\n",
       "      <td>47263</td>\n",
       "      <td>3169181</td>\n",
       "      <td>0.331103</td>\n",
       "    </tr>\n",
       "  </tbody>\n",
       "</table>\n",
       "</div>"
      ],
      "text/plain": [
       "                 total_trips  total_minutes  percent_total_trips\n",
       "passholder_type                                                 \n",
       "Flex Pass               4599          94530             0.032219\n",
       "Monthly Pass           80644        1326849             0.564955\n",
       "One Day Pass           10238         716319             0.071723\n",
       "Walk-up                47263        3169181             0.331103"
      ]
     },
     "metadata": {},
     "output_type": "display_data"
    },
    {
     "name": "stdout",
     "output_type": "stream",
     "text": [
      "Number of trips in the old pricing model for Q3 & Q4 in 2018\n"
     ]
    },
    {
     "data": {
      "text/html": [
       "<div>\n",
       "<style scoped>\n",
       "    .dataframe tbody tr th:only-of-type {\n",
       "        vertical-align: middle;\n",
       "    }\n",
       "\n",
       "    .dataframe tbody tr th {\n",
       "        vertical-align: top;\n",
       "    }\n",
       "\n",
       "    .dataframe thead th {\n",
       "        text-align: right;\n",
       "    }\n",
       "</style>\n",
       "<table border=\"1\" class=\"dataframe\">\n",
       "  <thead>\n",
       "    <tr style=\"text-align: right;\">\n",
       "      <th></th>\n",
       "      <th>total_trips</th>\n",
       "      <th>total_minutes</th>\n",
       "      <th>percent_total_trips</th>\n",
       "    </tr>\n",
       "    <tr>\n",
       "      <th>passholder_type</th>\n",
       "      <th></th>\n",
       "      <th></th>\n",
       "      <th></th>\n",
       "    </tr>\n",
       "  </thead>\n",
       "  <tbody>\n",
       "    <tr>\n",
       "      <th>Flex Pass</th>\n",
       "      <td>4259</td>\n",
       "      <td>70745</td>\n",
       "      <td>0.025179</td>\n",
       "    </tr>\n",
       "    <tr>\n",
       "      <th>Monthly Pass</th>\n",
       "      <td>81159</td>\n",
       "      <td>1488569</td>\n",
       "      <td>0.479805</td>\n",
       "    </tr>\n",
       "    <tr>\n",
       "      <th>One Day Pass</th>\n",
       "      <td>7139</td>\n",
       "      <td>511330</td>\n",
       "      <td>0.042205</td>\n",
       "    </tr>\n",
       "    <tr>\n",
       "      <th>Walk-up</th>\n",
       "      <td>76593</td>\n",
       "      <td>5461078</td>\n",
       "      <td>0.452811</td>\n",
       "    </tr>\n",
       "  </tbody>\n",
       "</table>\n",
       "</div>"
      ],
      "text/plain": [
       "                 total_trips  total_minutes  percent_total_trips\n",
       "passholder_type                                                 \n",
       "Flex Pass               4259          70745             0.025179\n",
       "Monthly Pass           81159        1488569             0.479805\n",
       "One Day Pass            7139         511330             0.042205\n",
       "Walk-up                76593        5461078             0.452811"
      ]
     },
     "metadata": {},
     "output_type": "display_data"
    }
   ],
   "source": [
    "new_riders = new_data.groupby('passholder_type').agg({\n",
    "    'trip_id' : 'count',\n",
    "    'duration' : 'sum'\n",
    "}).rename(columns = {\n",
    "    'trip_id':'total_trips',\n",
    "    'duration':'total_minutes'\n",
    "})\n",
    "\n",
    "\n",
    "old_riders= old_data.groupby('passholder_type').agg({\n",
    "    'trip_id' : 'count',\n",
    "    'duration' : 'sum'\n",
    "}).rename(columns = {\n",
    "    'trip_id':'total_trips',\n",
    "    'duration':'total_minutes'\n",
    "})\n",
    "\n",
    "old_riders['percent_total_trips'] = old_riders['total_trips']/sum(old_riders['total_trips'])\n",
    "\n",
    "new_riders['percent_total_trips'] = new_riders['total_trips']/sum(new_riders['total_trips'])\n",
    "\n",
    "print(\"Number of trips in the old pricing model for Q1 & Q2 in 2018\")\n",
    "display(old_riders)\n",
    "print(\"Number of trips in the old pricing model for Q3 & Q4 in 2018\")\n",
    "display(new_riders)"
   ]
  },
  {
   "cell_type": "markdown",
   "metadata": {},
   "source": [
    "This steep fall in the number of daily  passes sold indicate that the customers are not willing to invest in the daily pass under the new pricing model as the price of the walk-up has been reduced from $3.5 for 30 minutes to $1.75 for 30 minutes. \n",
    "\n",
    "Furthermore, it can be observed that the number of walk-up has also increased from 47623 to 76593. The increase in number of walk-up and the decrease in the number of passes sold suggests us that the bike riders prefer to use the walk-up option under the new pricing model. \n"
   ]
  },
  {
   "cell_type": "code",
   "execution_count": 29,
   "metadata": {},
   "outputs": [
    {
     "name": "stdout",
     "output_type": "stream",
     "text": [
      "Walk up demand function estimate\n",
      "The linear function from two data points is: y = -5.966587112171838e-05 x + 6.3199880668257755\n",
      "Where y = price for half hour block\n",
      "      x = rides in fiscal quarter\n",
      "\n",
      "\n",
      "Daily pass demand function estimate\n",
      "The linear function from two data points is: y = 0.0005646982897708938 x + -2.2813810906744107\n",
      "Where y = price for half hour block\n",
      "      x = rides in fiscal quarter\n",
      "\n",
      "\n",
      "Monthly pass demand function estimate\n",
      "The linear function from two data points is: y = -0.0033980582524271844 x + 277.53300970873784\n",
      "Where y = price for half hour block\n",
      "      x = rides in fiscal quarter\n",
      "\n",
      "\n",
      "Annual(Flex) pass demand function estimate\n",
      "The linear function from two data points is: y = 0.005147058823529412 x + -20.171323529411765\n",
      "Where y = price for half hour block\n",
      "      x = rides in fiscal quarter\n"
     ]
    }
   ],
   "source": [
    "slope_walk_up = (1.75-3.5) / (new_riders['total_trips']['Walk-up']-old_riders['total_trips']['Walk-up'])\n",
    "slope_daily = (1.75-3.5) / (new_riders['total_trips']['One Day Pass']-old_riders['total_trips']['One Day Pass'])\n",
    "slope_monthly = (1.75-3.5) / (new_riders['total_trips']['Monthly Pass']-old_riders['total_trips']['Monthly Pass'])\n",
    "slope_annual = (1.75-3.5) / (new_riders['total_trips']['Flex Pass']-old_riders['total_trips']['Flex Pass'])\n",
    "\n",
    "intercept_walk_up = 1.75 - new_riders['total_trips']['Walk-up'] * slope_walk_up\n",
    "intercept_daily = 1.75 - new_riders['total_trips']['One Day Pass'] * slope_daily\n",
    "intercept_monthly = 1.75 - new_riders['total_trips']['Monthly Pass'] * slope_monthly\n",
    "intercept_annual = 1.75 - new_riders['total_trips']['Flex Pass'] * slope_annual\n",
    "\n",
    "print('Walk up demand function estimate')\n",
    "print_func(slope_walk_up, intercept_walk_up)   \n",
    "print('\\n')\n",
    "print('Daily pass demand function estimate')\n",
    "print_func(slope_daily, intercept_daily)   \n",
    "print('\\n')\n",
    "print('Monthly pass demand function estimate')\n",
    "print_func(slope_monthly, intercept_monthly)\n",
    "print('\\n')\n",
    "print('Annual(Flex) pass demand function estimate')\n",
    "print_func(slope_annual, intercept_annual)"
   ]
  },
  {
   "cell_type": "code",
   "execution_count": 30,
   "metadata": {},
   "outputs": [
    {
     "data": {
      "image/png": "[encoded data removed]",
      "text/plain": [
       "<Figure size 720x432 with 1 Axes>"
      ]
     },
     "metadata": {
      "needs_background": "light"
     },
     "output_type": "display_data"
    }
   ],
   "source": [
    "def walk_up_demand(x):\n",
    "    return slope_walk_up * x + intercept_walk_up\n",
    "\n",
    "def daily_demand(x):\n",
    "    return slope_daily * x + intercept_daily\n",
    "\n",
    "def monthly_demand(x):\n",
    "    return slope_monthly * x + intercept_monthly\n",
    "\n",
    "def annual_demand(x):\n",
    "    return slope_annual * x + intercept_annual\n",
    "\n",
    "q = np.linspace(0,50000)\n",
    "fig, axes = plt.subplots(figsize=(10,6))\n",
    "plt.plot(q, walk_up_demand(q), label = 'Walk up')\n",
    "plt.plot(q, daily_demand(q), label = 'Daily')\n",
    "plt.plot(q, monthly_demand(q), label = 'Monthly')\n",
    "plt.plot(q, annual_demand(q), label = 'Annual')\n",
    "plt.title('Demand curves across customer segments', size=15)\n",
    "plt.xlabel('Number of rides')\n",
    "plt.ylabel('Price per half hour block')\n",
    "plt.ylim(0,5)\n",
    "plt.legend();"
   ]
  },
  {
   "cell_type": "markdown",
   "metadata": {},
   "source": [
    "It can be noted from the above figure that the typical demand curve with a negative slope is observed only for the walk-up riders. This is because of the drastic rate cut in rates from 3.5 to $1.75 which motivated customers to start using walk-up option instead of purchasing the passes and the prices for passes did not fall proportionately for half hourly rates so it became more economical to forgo the passes. "
   ]
  },
  {
   "cell_type": "markdown",
   "metadata": {},
   "source": [
    "### Optimization with Scipy Optimize"
   ]
  },
  {
   "cell_type": "code",
   "execution_count": 31,
   "metadata": {},
   "outputs": [],
   "source": [
    "# Constants\n",
    "\n",
    "daily_pass = old_agg_pass_groups['new_pass_prices']['One Day Pass']\n",
    "monthly_pass = old_agg_pass_groups['new_pass_prices']['Monthly Pass']\n",
    "annual_pass = old_agg_pass_groups['new_pass_prices']['Flex Pass']\n",
    "\n",
    "walk_up_share = old_agg_pass_groups['percent_total_trips']['Walk-up']\n",
    "daily_share = old_agg_pass_groups['percent_total_trips']['One Day Pass']\n",
    "monthly_share = old_agg_pass_groups['percent_total_trips']['Monthly Pass']\n",
    "annual_share = old_agg_pass_groups['percent_total_trips']['Flex Pass']\n",
    "\n",
    "walk_up_charged_blocks = old_agg_pass_groups['average_charged_blocks_per_ride']['Walk-up']\n",
    "daily_charged_blocks = old_agg_pass_groups['average_charged_blocks_per_ride']['One Day Pass']\n",
    "monthly_charged_blocks = old_agg_pass_groups['average_charged_blocks_per_ride']['Monthly Pass']\n",
    "annual_charged_blocks = old_agg_pass_groups['average_charged_blocks_per_ride']['Flex Pass']"
   ]
  },
  {
   "cell_type": "markdown",
   "metadata": {},
   "source": [
    "An objective function of total revenue based on the price and the number of rides is defined. \n",
    "\n",
    "As a quadratic optimization problem is naturally a minimization problem, total revenue is returned as  ‘-total_revenue’ with a negative sign to obtain the maximum."
   ]
  },
  {
   "cell_type": "code",
   "execution_count": 32,
   "metadata": {},
   "outputs": [
    {
     "name": "stdout",
     "output_type": "stream",
     "text": [
      "     fun: -3169692.0725216856\n",
      "     jac: array([-3.7314625e+04, -1.8375000e+01])\n",
      " message: 'Optimization terminated successfully.'\n",
      "    nfev: 48\n",
      "     nit: 9\n",
      "    njev: 9\n",
      "  status: 0\n",
      " success: True\n",
      "       x: array([1.50000001e+00, 1.72922286e+05])\n",
      "3169692\n"
     ]
    }
   ],
   "source": [
    "from scipy.optimize import minimize\n",
    "\n",
    "# Base quadratic with demand curve.\n",
    "\n",
    "def objective(x):\n",
    "    rate = x[0]\n",
    "    riders = x[1]\n",
    "    \n",
    "    walk_up_rev = riders * walk_up_share * walk_up_charged_blocks * rate\n",
    "    day_rev = riders * daily_share * daily_charged_blocks * rate\n",
    "    month_rev = riders * monthly_share * monthly_charged_blocks * rate\n",
    "    annual_rev = riders * annual_share * annual_charged_blocks * rate\n",
    "    \n",
    "    day_pass_rev = riders * daily_share * daily_pass\n",
    "    month_pass_rev = riders * monthly_share * monthly_pass\n",
    "    annual_pass_rev = riders * annual_share * annual_pass\n",
    "    \n",
    "    total_revenue = walk_up_rev + day_rev + month_rev + annual_rev + day_pass_rev + month_pass_rev + annual_pass_rev\n",
    "    return -total_revenue\n",
    "\n",
    "#Constraints are similarly defined as individual functions with the same indexing of individual variables.\n",
    "def demand_constraint(x):\n",
    "    rate = x[0]\n",
    "    riders = x[1]\n",
    "    return rate - slope * riders - intercept\n",
    "\n",
    "#A dictionary created to label the type of constraint and list all the individual constraints.\n",
    "cons = {'type':'eq', 'fun':demand_constraint}\n",
    "\n",
    "#b1 represent by upper and lower bound for the rate charged\n",
    "b1 = (1.5, 2.5)\n",
    "#b2 represents the range of the total number of rides\n",
    "b2 = (50000, 190000)\n",
    "\n",
    "bnds = (b1,b2)\n",
    "\n",
    "#initial guess of the variables which is the current pricing and total rides values to use as our initial guess.\n",
    "x0 = np.array([1.75, 142744])\n",
    "\n",
    "sol = minimize(objective, x0, method='SLSQP', constraints=cons, bounds=bnds)\n",
    "\n",
    "print(sol)\n",
    "print(-round(sol['fun']))"
   ]
  },
  {
   "cell_type": "markdown",
   "metadata": {},
   "source": [
    "From this optimization, it seems that revenue is optimized when price is set at $1.6 for every half hour. This would increase total rides to 172,922.\n",
    "\n",
    "The total revenue would increase to $3,169,692.\n",
    "\n",
    "It seems that the negative demand slope meant that reducing prices to the lower bound was the most effect revenue maximizing strategy.\n",
    "\n",
    "What if bounds on the variables are adjusted? What if minimum price was allowed to drop further below $1? What if competition was fiercer than expected and maximum ride growth was limited to below 150,000 rides?\n",
    "\n",
    "The following bounds are to a sensitivity analysis"
   ]
  },
  {
   "cell_type": "code",
   "execution_count": 33,
   "metadata": {},
   "outputs": [
    {
     "name": "stdout",
     "output_type": "stream",
     "text": [
      "Total rev | Rate | Total riders | Rate range | Rider range\n",
      "3347314     1.0    184239.0       (0.75, 2.5)     (50000, 240000)\n",
      "3347314     1.0    184239.0       (0.75, 2.5)     (50000, 220000)\n",
      "3347314     1.0    184239.0       (0.75, 2.5)     (50000, 200000)\n",
      "3281208     1.0    180000.0       (0.75, 2.5)     (50000, 180000)\n",
      "3229306     1.0    176695.0       (1.25, 2.5)     (50000, 240000)\n",
      "3229306     1.0    176695.0       (1.25, 2.5)     (50000, 220000)\n",
      "3229306     1.0    176695.0       (1.25, 2.5)     (50000, 200000)\n",
      "3229306     1.0    176695.0       (1.25, 2.5)     (50000, 180000)\n",
      "3169692     2.0    172922.0       (1.5, 2.5)     (50000, 240000)\n",
      "3169692     2.0    172922.0       (1.5, 2.5)     (50000, 220000)\n",
      "3169692     2.0    172922.0       (1.5, 2.5)     (50000, 200000)\n",
      "3169692     2.0    172922.0       (1.5, 2.5)     (50000, 180000)\n",
      "3109671     2.0    169150.0       (1.75, 2.5)     (50000, 240000)\n",
      "3109671     2.0    169150.0       (1.75, 2.5)     (50000, 220000)\n",
      "3109671     2.0    169150.0       (1.75, 2.5)     (50000, 200000)\n",
      "3109671     2.0    169150.0       (1.75, 2.5)     (50000, 180000)\n"
     ]
    }
   ],
   "source": [
    "price_range_1 = (0.75, 2.5)\n",
    "price_range_2 = (1.25, 2.5)\n",
    "price_range_3 = (1.5, 2.5)\n",
    "price_range_4 = (1.75, 2.5)\n",
    "\n",
    "rider_range_1 = (50000, 180000)\n",
    "rider_range_2 = (50000, 200000)\n",
    "rider_range_3 = (50000, 220000)\n",
    "rider_range_4 = (50000, 240000)\n",
    "\n",
    "bounds = [((price_range_1, rider_range_1)) , ((price_range_1, rider_range_2)) , ((price_range_1, rider_range_3))\n",
    "          , ((price_range_1, rider_range_4)) , ((price_range_2, rider_range_1)) , ((price_range_2, rider_range_2))\n",
    "          , ((price_range_2, rider_range_3)) , ((price_range_2, rider_range_4)) , ((price_range_3, rider_range_1))\n",
    "          , ((price_range_3, rider_range_2)) , ((price_range_3, rider_range_3)) , ((price_range_3, rider_range_4))\n",
    "          , ((price_range_4, rider_range_1)) , ((price_range_4, rider_range_2)) , ((price_range_4, rider_range_3))\n",
    "          , ((price_range_4, rider_range_4))\n",
    "          ]\n",
    "\n",
    "sensitivity_results = [minimize(objective, x0, method='SLSQP', constraints=cons, bounds=bnds) for bnds in bounds]\n",
    "sensitivity_total_rev = [-round(sol['fun']) for sol in sensitivity_results]\n",
    "sensitivity_rate = [round(sol['x'][0]) for sol in sensitivity_results]\n",
    "sensitivity_riders = [round(sol['x'][1]) for sol in sensitivity_results]\n",
    "price_ranges = [pair[0] for pair in bounds]\n",
    "rider_ranges = [pair[1] for pair in bounds]\n",
    "\n",
    "sensitivity_sorted = sorted(list(zip(sensitivity_total_rev, sensitivity_rate, sensitivity_riders, price_ranges, \n",
    "                                     rider_ranges)), reverse = True)\n",
    "\n",
    "print('Total rev | Rate | Total riders | Rate range | Rider range')\n",
    "for test_i in range(len(sensitivity_sorted)):\n",
    "    print(sensitivity_sorted[test_i][0], '   ',sensitivity_sorted[test_i][1], '  ',\n",
    "          sensitivity_sorted[test_i][2], \n",
    "          '     ',sensitivity_sorted[test_i][3], '   ', sensitivity_sorted[test_i][4])"
   ]
  },
  {
   "cell_type": "markdown",
   "metadata": {},
   "source": [
    "With the given demand curve, it seems that adopting the lowest possible price of Dollar 1 results in a maximum of 184,239 rides. It also results in the highest possible revenue of Dollar 3,347,77314.\n",
    "\n",
    "Across the board, it seems that as long as we are able to attract more than 180,000 rides, the strategy should be to reduce prices. Given what we’re seeing here, perhaps the drastic drop of 50% from the previous pricing scheme was justified."
   ]
  }
 ],
 "metadata": {
  "kernelspec": {
   "display_name": "Python 3",
   "language": "python",
   "name": "python3"
  },
  "language_info": {
   "codemirror_mode": {
    "name": "ipython",
    "version": 3
   },
   "file_extension": ".py",
   "mimetype": "text/x-python",
   "name": "python",
   "nbconvert_exporter": "python",
   "pygments_lexer": "ipython3",
   "version": "3.7.1"
  }
 },
 "nbformat": 4,
 "nbformat_minor": 2
}
