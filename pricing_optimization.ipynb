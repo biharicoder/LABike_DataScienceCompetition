{
 "cells": [
  {
   "cell_type": "code",
   "execution_count": 4,
   "metadata": {},
   "outputs": [],
   "source": [
    "import pandas as pd\n",
    "import math"
   ]
  },
  {
   "cell_type": "code",
   "execution_count": 2,
   "metadata": {},
   "outputs": [
    {
     "name": "stderr",
     "output_type": "stream",
     "text": [
      "C:\\Users\\Shiva\\Anaconda3\\lib\\site-packages\\IPython\\core\\interactiveshell.py:3020: DtypeWarning: Columns (2) have mixed types. Specify dtype option on import or set low_memory=False.\n",
      "  interactivity=interactivity, compiler=compiler, result=result)\n"
     ]
    }
   ],
   "source": [
    "df = pd.read_csv('pricing_optimization.csv')"
   ]
  },
  {
   "cell_type": "code",
   "execution_count": 49,
   "metadata": {},
   "outputs": [],
   "source": [
    "df = df[(df['trip_duration_mins']>=0) & (df['trip_duration_mins']<180)]"
   ]
  },
  {
   "cell_type": "code",
   "execution_count": 50,
   "metadata": {},
   "outputs": [
    {
     "data": {
      "text/plain": [
       "(574407, 23)"
      ]
     },
     "execution_count": 50,
     "metadata": {},
     "output_type": "execute_result"
    }
   ],
   "source": [
    "df.shape"
   ]
  },
  {
   "cell_type": "code",
   "execution_count": 52,
   "metadata": {},
   "outputs": [],
   "source": [
    "#Creating 30 mins time block that walk-up users have to pay for\n",
    "df['time_block_count'] = df['trip_duration_mins'].apply(lambda trip_duration_mins: math.ceil(trip_duration_mins/30))\n",
    "\n",
    "#Creating another feature for 30 minute blocks for passholders that excludes first 30 mintues\n",
    "df['time_block_count_post_free'] = df['trip_duration_mins'].apply(lambda trip_duration_mins: math.ceil(trip_duration_mins/30))-1"
   ]
  },
  {
   "cell_type": "code",
   "execution_count": 53,
   "metadata": {},
   "outputs": [
    {
     "data": {
      "text/html": [
       "<div>\n",
       "<style scoped>\n",
       "    .dataframe tbody tr th:only-of-type {\n",
       "        vertical-align: middle;\n",
       "    }\n",
       "\n",
       "    .dataframe tbody tr th {\n",
       "        vertical-align: top;\n",
       "    }\n",
       "\n",
       "    .dataframe thead th {\n",
       "        text-align: right;\n",
       "    }\n",
       "</style>\n",
       "<table border=\"1\" class=\"dataframe\">\n",
       "  <thead>\n",
       "    <tr style=\"text-align: right;\">\n",
       "      <th></th>\n",
       "      <th>total_trips</th>\n",
       "      <th>pay_count_walk_up</th>\n",
       "      <th>total_30min_blocks</th>\n",
       "      <th>total_30min_blocks_post_free</th>\n",
       "      <th>total_minutes</th>\n",
       "    </tr>\n",
       "    <tr>\n",
       "      <th>passholder_type</th>\n",
       "      <th></th>\n",
       "      <th></th>\n",
       "      <th></th>\n",
       "      <th></th>\n",
       "      <th></th>\n",
       "    </tr>\n",
       "  </thead>\n",
       "  <tbody>\n",
       "    <tr>\n",
       "      <th>Flex Pass</th>\n",
       "      <td>23896</td>\n",
       "      <td>0</td>\n",
       "      <td>25802</td>\n",
       "      <td>1906</td>\n",
       "      <td>298054.0</td>\n",
       "    </tr>\n",
       "    <tr>\n",
       "      <th>Monthly Pass</th>\n",
       "      <td>333351</td>\n",
       "      <td>0</td>\n",
       "      <td>350693</td>\n",
       "      <td>17342</td>\n",
       "      <td>3751245.0</td>\n",
       "    </tr>\n",
       "    <tr>\n",
       "      <th>One Day Pass</th>\n",
       "      <td>20420</td>\n",
       "      <td>0</td>\n",
       "      <td>37563</td>\n",
       "      <td>17143</td>\n",
       "      <td>821889.0</td>\n",
       "    </tr>\n",
       "    <tr>\n",
       "      <th>Walk-up</th>\n",
       "      <td>196740</td>\n",
       "      <td>196740</td>\n",
       "      <td>325362</td>\n",
       "      <td>128622</td>\n",
       "      <td>6730603.0</td>\n",
       "    </tr>\n",
       "  </tbody>\n",
       "</table>\n",
       "</div>"
      ],
      "text/plain": [
       "                 total_trips  pay_count_walk_up  total_30min_blocks  \\\n",
       "passholder_type                                                       \n",
       "Flex Pass              23896                  0               25802   \n",
       "Monthly Pass          333351                  0              350693   \n",
       "One Day Pass           20420                  0               37563   \n",
       "Walk-up               196740             196740              325362   \n",
       "\n",
       "                 total_30min_blocks_post_free  total_minutes  \n",
       "passholder_type                                               \n",
       "Flex Pass                                1906       298054.0  \n",
       "Monthly Pass                            17342      3751245.0  \n",
       "One Day Pass                            17143       821889.0  \n",
       "Walk-up                                128622      6730603.0  "
      ]
     },
     "execution_count": 53,
     "metadata": {},
     "output_type": "execute_result"
    }
   ],
   "source": [
    "agg_pass_groups = pd.DataFrame()\n",
    "#agg_pass_groups['passholder_type'] = ['annual','monthly','daily','walk-up']\n",
    "agg_pass_groups = df.groupby('passholder_type').agg({\n",
    "    'trip_id' : 'count',\n",
    "    'walk_up' : 'sum',\n",
    "    'time_block_count' : 'sum',\n",
    "    'time_block_count_post_free' : 'sum',\n",
    "    'trip_duration_mins' : 'sum'\n",
    "}).rename(columns = {\n",
    "    'trip_id' : 'total_trips',\n",
    "    'walk_up' : 'pay_count_walk_up',\n",
    "    'time_block_count' : 'total_30min_blocks',\n",
    "    'time_block_count_post_free' : 'total_30min_blocks_post_free',\n",
    "    'trip_duration_mins' : 'total_minutes'\n",
    "}).reset_index()\n",
    "#agg_pass_groups['passholder_type'] = ['annual','monthly','daily','walk-up']\n",
    "agg_pass_groups.index = agg_pass_groups['passholder_type']\n",
    "agg_pass_groups = agg_pass_groups.drop('passholder_type',1)\n",
    "agg_pass_groups"
   ]
  },
  {
   "cell_type": "markdown",
   "metadata": {},
   "source": [
    "We are however missing the number of passholders to implement revenue gained from selling passes. As we do not have unique identifiers for passholders, we refer to the data page of LA Metro bikes here: https://bikeshare.metro.net/about/data/.\n",
    "\n",
    "With roughly 689,741 trips completed and 66,052 passes sold since it's inception in July 2016, it would be safe to expect roughly 23,000 passes sold during the year-long period of this analysis.\n",
    "\n",
    "We will estimate the number of different passes sold from a breakeven perspective. As most trips (>60%) are \"last mile\" trips from metro stops and the median duration of trips is 12 minutes, we conduct the following breakeven analysis for trips under 30 minutes"
   ]
  },
  {
   "cell_type": "code",
   "execution_count": 54,
   "metadata": {},
   "outputs": [
    {
     "name": "stdout",
     "output_type": "stream",
     "text": [
      " Rides per day required for daily pass: 2.0 \n",
      " Rides per month required for monthly pass: 5.714285714285714 \n",
      " Rides per year required for annual pass: 22.857142857142858\n"
     ]
    }
   ],
   "source": [
    "## PREVIOUS PRICING MODEL\n",
    "# Rides to break even = Pass price / (Price to ride without pass - Price to ride with pass)\n",
    "# Passes sold = Total rides / Rides to break even\n",
    "\n",
    "price_wo_pass = 3.5\n",
    "price_w_pass_day = 0\n",
    "price_w_pass_month = 0\n",
    "price_w_pass_annual = 1.75\n",
    "\n",
    "# Average difference between passholders and walk-up riders across previous and current pricing.\n",
    "# This is represented by the difference in prices per 30 minute block since pass holders get the first 30 minutes free.\n",
    "# As current data is from before the price change, previous prices are used to estimate number of passes.\n",
    "\n",
    "day_diff = price_wo_pass - price_w_pass_day\n",
    "month_diff = price_wo_pass - price_w_pass_month\n",
    "annual_diff = price_wo_pass - price_w_pass_annual\n",
    "\n",
    "# Prices of passes.\n",
    "\n",
    "day_pass_price = 7\n",
    "month_pass_price = 20\n",
    "annual_pass_price = 40\n",
    "\n",
    "# Estimated rides required for breakeven.\n",
    "\n",
    "rides_day_pass_estimate = day_pass_price / day_diff\n",
    "rides_month_pass_estimate = month_pass_price / month_diff\n",
    "rides_annual_pass_estimate = annual_pass_price / annual_diff\n",
    "\n",
    "print(\" Rides per day required for daily pass:\",rides_day_pass_estimate,'\\n', \n",
    "      \"Rides per month required for monthly pass:\", rides_month_pass_estimate,'\\n', \n",
    "      \"Rides per year required for annual pass:\", rides_annual_pass_estimate)"
   ]
  },
  {
   "cell_type": "markdown",
   "metadata": {},
   "source": [
    "Rides per day required for daily pass: 2.0 \n",
    " Rides per month required for monthly pass: 5.714285714285714 \n",
    " Rides per year required for annual pass: 22.857142857142858\n",
    "Looking at the number of rides required of breakeven and assessing the numbers, the numbers seem to be on the low side.\n",
    "\n",
    "Daily pass holders are likely to perform more than a round trip if they were purchasing a day pass.\n",
    "\n",
    "Monthly pass holders are likely to be the occasional commuters and even at a conservative 2 rides/week to work would tally 8 rides a month.\n",
    "\n",
    "Annual pass holders are the hardest to gauge due to the low $40 price point of the flex point from the previous pricing plan. For now, they'll be scaled to the same factor as day and monthly pass numbers.\n",
    "\n",
    "Scaling daily passes up to a conservative 3 rides is a 50% increase in rides while scaling monthly rides up to a conservative 8 rides is a 40% increase. For conservative estimates, we scale the three estimates by a common factor of 40%."
   ]
  },
  {
   "cell_type": "code",
   "execution_count": 55,
   "metadata": {},
   "outputs": [
    {
     "name": "stdout",
     "output_type": "stream",
     "text": [
      "Rides per day required for daily pass (scaled): 2.8 \n",
      " Rides per month required for monthly pass (scaled): 8.0 \n",
      " Rides per year required for annual pass (scaled): 32.0\n"
     ]
    }
   ],
   "source": [
    "rides_day_pass_estimate *= 1.4\n",
    "rides_month_pass_estimate *= 1.4\n",
    "rides_annual_pass_estimate *= 1.4\n",
    "\n",
    "print(\"Rides per day required for daily pass (scaled):\",rides_day_pass_estimate,'\\n', \n",
    "      \"Rides per month required for monthly pass (scaled):\", rides_month_pass_estimate,'\\n', \n",
    "      \"Rides per year required for annual pass (scaled):\", rides_annual_pass_estimate)"
   ]
  },
  {
   "cell_type": "code",
   "execution_count": 57,
   "metadata": {},
   "outputs": [
    {
     "name": "stdout",
     "output_type": "stream",
     "text": [
      "Estimated passes sold for daily pass: 7293 \n",
      " Estimated passes sold for monthly pass: 41669 \n",
      " Estimated passes sold for annual pass: 747 \n",
      " Total passes sold: 49709\n"
     ]
    }
   ],
   "source": [
    "# Divide total trips by rides required for breakeven per pass duration (day/month/year) to get estimated number\n",
    "# of passholders.\n",
    "\n",
    "passes_sold_day = math.ceil(agg_pass_groups.loc['One Day Pass','total_trips']/rides_day_pass_estimate)\n",
    "passes_sold_month = math.ceil(agg_pass_groups.loc['Monthly Pass','total_trips']/rides_month_pass_estimate)\n",
    "passes_sold_annual = math.ceil(agg_pass_groups.loc['Flex Pass','total_trips']/rides_annual_pass_estimate)\n",
    "passes_sold_total = passes_sold_day + passes_sold_month + passes_sold_annual\n",
    "\n",
    "agg_pass_groups['passes_sold'] = [passes_sold_annual, passes_sold_month, passes_sold_day, 0]\n",
    "\n",
    "print(\"Estimated passes sold for daily pass:\",passes_sold_day,'\\n', \n",
    "      \"Estimated passes sold for monthly pass:\", passes_sold_month,'\\n', \n",
    "      \"Estimated passes sold for annual pass:\", passes_sold_annual,'\\n',\n",
    "     \"Total passes sold:\", passes_sold_total)"
   ]
  },
  {
   "cell_type": "markdown",
   "metadata": {},
   "source": [
    "This is roughly inline with our previous estimate of 20,000.\n",
    "\n",
    "Lets now formulate the objective function for this optimization model to maximum total revenue from pass sales and rides.\n",
    "\n",
    "The total revenue can be split into the following:\n",
    "\n",
    "Total revenue from walk up users = Price for 30 minutes of usage * Total 30 minute blocks by walk up users\n",
    "Total revenue from day, month pass users = Price for 30 minutes of usage * Total 30 minute blocks after free first 30 minutes\n",
    "Total revenue from selling passes = Prices of respective passes * Total passes sold in respective pass types\n",
    "Now we can represent this objective function in PuLP."
   ]
  },
  {
   "cell_type": "code",
   "execution_count": 58,
   "metadata": {},
   "outputs": [
    {
     "data": {
      "text/html": [
       "<div>\n",
       "<style scoped>\n",
       "    .dataframe tbody tr th:only-of-type {\n",
       "        vertical-align: middle;\n",
       "    }\n",
       "\n",
       "    .dataframe tbody tr th {\n",
       "        vertical-align: top;\n",
       "    }\n",
       "\n",
       "    .dataframe thead th {\n",
       "        text-align: right;\n",
       "    }\n",
       "</style>\n",
       "<table border=\"1\" class=\"dataframe\">\n",
       "  <thead>\n",
       "    <tr style=\"text-align: right;\">\n",
       "      <th></th>\n",
       "      <th>total_trips</th>\n",
       "      <th>pay_count_walk_up</th>\n",
       "      <th>total_30min_blocks</th>\n",
       "      <th>total_30min_blocks_post_free</th>\n",
       "      <th>total_minutes</th>\n",
       "      <th>passes_sold</th>\n",
       "      <th>previous_pass_prices</th>\n",
       "      <th>new_pass_prices</th>\n",
       "      <th>average_charged_blocks_per_ride</th>\n",
       "      <th>percent_total_trips</th>\n",
       "    </tr>\n",
       "    <tr>\n",
       "      <th>passholder_type</th>\n",
       "      <th></th>\n",
       "      <th></th>\n",
       "      <th></th>\n",
       "      <th></th>\n",
       "      <th></th>\n",
       "      <th></th>\n",
       "      <th></th>\n",
       "      <th></th>\n",
       "      <th></th>\n",
       "      <th></th>\n",
       "    </tr>\n",
       "  </thead>\n",
       "  <tbody>\n",
       "    <tr>\n",
       "      <th>Flex Pass</th>\n",
       "      <td>23896</td>\n",
       "      <td>0</td>\n",
       "      <td>25802</td>\n",
       "      <td>1906</td>\n",
       "      <td>298054.0</td>\n",
       "      <td>747</td>\n",
       "      <td>40</td>\n",
       "      <td>150</td>\n",
       "      <td>0.079762</td>\n",
       "      <td>0.041601</td>\n",
       "    </tr>\n",
       "    <tr>\n",
       "      <th>Monthly Pass</th>\n",
       "      <td>333351</td>\n",
       "      <td>0</td>\n",
       "      <td>350693</td>\n",
       "      <td>17342</td>\n",
       "      <td>3751245.0</td>\n",
       "      <td>41669</td>\n",
       "      <td>20</td>\n",
       "      <td>17</td>\n",
       "      <td>0.052023</td>\n",
       "      <td>0.580339</td>\n",
       "    </tr>\n",
       "    <tr>\n",
       "      <th>One Day Pass</th>\n",
       "      <td>20420</td>\n",
       "      <td>0</td>\n",
       "      <td>37563</td>\n",
       "      <td>17143</td>\n",
       "      <td>821889.0</td>\n",
       "      <td>7293</td>\n",
       "      <td>7</td>\n",
       "      <td>5</td>\n",
       "      <td>0.839520</td>\n",
       "      <td>0.035550</td>\n",
       "    </tr>\n",
       "    <tr>\n",
       "      <th>Walk-up</th>\n",
       "      <td>196740</td>\n",
       "      <td>196740</td>\n",
       "      <td>325362</td>\n",
       "      <td>128622</td>\n",
       "      <td>6730603.0</td>\n",
       "      <td>0</td>\n",
       "      <td>0</td>\n",
       "      <td>0</td>\n",
       "      <td>0.653766</td>\n",
       "      <td>0.342510</td>\n",
       "    </tr>\n",
       "  </tbody>\n",
       "</table>\n",
       "</div>"
      ],
      "text/plain": [
       "                 total_trips  pay_count_walk_up  total_30min_blocks  \\\n",
       "passholder_type                                                       \n",
       "Flex Pass              23896                  0               25802   \n",
       "Monthly Pass          333351                  0              350693   \n",
       "One Day Pass           20420                  0               37563   \n",
       "Walk-up               196740             196740              325362   \n",
       "\n",
       "                 total_30min_blocks_post_free  total_minutes  passes_sold  \\\n",
       "passholder_type                                                             \n",
       "Flex Pass                                1906       298054.0          747   \n",
       "Monthly Pass                            17342      3751245.0        41669   \n",
       "One Day Pass                            17143       821889.0         7293   \n",
       "Walk-up                                128622      6730603.0            0   \n",
       "\n",
       "                 previous_pass_prices  new_pass_prices  \\\n",
       "passholder_type                                          \n",
       "Flex Pass                          40              150   \n",
       "Monthly Pass                       20               17   \n",
       "One Day Pass                        7                5   \n",
       "Walk-up                             0                0   \n",
       "\n",
       "                 average_charged_blocks_per_ride  percent_total_trips  \n",
       "passholder_type                                                        \n",
       "Flex Pass                               0.079762             0.041601  \n",
       "Monthly Pass                            0.052023             0.580339  \n",
       "One Day Pass                            0.839520             0.035550  \n",
       "Walk-up                                 0.653766             0.342510  "
      ]
     },
     "execution_count": 58,
     "metadata": {},
     "output_type": "execute_result"
    }
   ],
   "source": [
    "agg_pass_groups['previous_pass_prices'] = [40, 20, 7, 0]\n",
    "agg_pass_groups['new_pass_prices'] = [150,17, 5, 0]\n",
    "agg_pass_groups['average_charged_blocks_per_ride'] = agg_pass_groups['total_30min_blocks_post_free'] / agg_pass_groups['total_trips']\n",
    "agg_pass_groups['percent_total_trips'] = agg_pass_groups['total_trips']/sum(agg_pass_groups['total_trips'])\n",
    "agg_pass_groups"
   ]
  },
  {
   "cell_type": "markdown",
   "metadata": {},
   "source": [
    "Let's first run a quick calculation to see what our current total revenue is with the estimated number of passholders over the past year.\n",
    "\n",
    "The old pricing scheme is used here to estimate the price. Here, annual passholders pay dollar 40 a year for a flex pass and dollar 1.75 for every half hour. The first half hour is not free."
   ]
  },
  {
   "cell_type": "code",
   "execution_count": 61,
   "metadata": {},
   "outputs": [
    {
     "name": "stdout",
     "output_type": "stream",
     "text": [
      "Total revenue: $ 1933491.75\n"
     ]
    }
   ],
   "source": [
    "current_tot_rev = (sum(3.5 * agg_pass_groups['pay_count_walk_up']) \n",
    "                   + sum(1.75 * agg_pass_groups['total_30min_blocks_post_free'])\n",
    "                   + 1.75 * (agg_pass_groups['total_30min_blocks'] ['Flex Pass']\n",
    "                                            - agg_pass_groups['total_30min_blocks_post_free']['Flex Pass'])\n",
    "                   + sum(agg_pass_groups['passes_sold'] * agg_pass_groups['previous_pass_prices']))\n",
    "print('Total revenue: $', current_tot_rev)"
   ]
  },
  {
   "cell_type": "markdown",
   "metadata": {},
   "source": [
    "## Basic linear optimization with PuLP\n",
    "\n",
    "Let's first try basic linear optimizations with PuLP before moving on to more advanced quadratic programming.\n",
    "\n",
    "While the price and demand relationship is probably the most interesting one, another question that could be asked is if all plans are necessary for revenue maximization. We thus create binary variables for each plan and run a basic optimization over both previous and current price plans.\n",
    "\n",
    "Given that riders have already been complaining about the $3.50 per half hour block rate, any dropping of passes in the past pricing scheme would have led to a precipitous drop in ridership. Furthermore, given the fierce competition in the area of bike and scooter sharing, the dropping of certain passes could simply lead to riders moving to other competitors.\n",
    "\n",
    "We assume a baseline attrition of 30% for each category and adjust the parameters as we run the model."
   ]
  },
  {
   "cell_type": "code",
   "execution_count": 63,
   "metadata": {},
   "outputs": [],
   "source": [
    "from pulp import *"
   ]
  },
  {
   "cell_type": "code",
   "execution_count": 65,
   "metadata": {},
   "outputs": [
    {
     "name": "stdout",
     "output_type": "stream",
     "text": [
      "Status: Optimal\n",
      "Optimal Solution to the problem:  2169558.35\n",
      "Individual decision_variables: \n",
      "annual_no = 0.0\n",
      "annual_yes = 1.0\n",
      "day_no = 1.0\n",
      "day_yes = 0.0\n",
      "month_no = 0.0\n",
      "month_yes = 1.0\n"
     ]
    }
   ],
   "source": [
    "previous_walk_up = 3.5\n",
    "previous_pass = 1.75\n",
    "\n",
    "# Model version 1 for previous pricing\n",
    "\n",
    "model_v1 = pulp.LpProblem(\"Revenue Maximization Previous\", pulp.LpMaximize)\n",
    "\n",
    "# List of all binary variables.\n",
    "\n",
    "day_yes = pulp.LpVariable('day_yes', cat='Binary')\n",
    "\n",
    "day_no = pulp.LpVariable('day_no', cat='Binary')\n",
    "\n",
    "month_yes = pulp.LpVariable('month_yes', cat='Binary')\n",
    "\n",
    "month_no = pulp.LpVariable('month_no', cat='Binary')\n",
    "\n",
    "annual_yes = pulp.LpVariable('annual_yes', cat='Binary')\n",
    "\n",
    "annual_no = pulp.LpVariable('annual_no', cat='Binary')\n",
    "\n",
    "# Objective function.\n",
    "# Revenue for walk ups\n",
    "walk_up_rev_block = previous_walk_up * agg_pass_groups.loc['Walk-up','total_30min_blocks']\n",
    "\n",
    "# Revenue for pass sales.\n",
    "trip_rev_day_pass = agg_pass_groups.loc['One Day Pass', 'total_30min_blocks_post_free'] * day_yes * previous_pass\n",
    "trip_rev_month_pass = agg_pass_groups.loc['Monthly Pass', 'total_30min_blocks_post_free'] * month_yes * previous_pass\n",
    "trip_rev_annual_pass = agg_pass_groups.loc['Flex Pass', 'total_30min_blocks'] * annual_yes * previous_pass\n",
    "\n",
    "# Revenue for pass sales is pass is cancelled.\n",
    "trip_rev_day_no_pass = agg_pass_groups.loc['One Day Pass', 'total_30min_blocks'] * previous_walk_up * day_no * 0.7\n",
    "trip_rev_month_no_pass = agg_pass_groups.loc['Monthly Pass', 'total_30min_blocks'] * previous_walk_up * month_no * 0.7\n",
    "trip_rev_annual_no_pass = agg_pass_groups.loc['Flex Pass', 'total_30min_blocks'] * previous_walk_up * annual_no * 0.7\n",
    "\n",
    "# Revenue for sales of passes.\n",
    "pass_sales_rev_day = (day_yes * agg_pass_groups.loc['One Day Pass','previous_pass_prices'] \n",
    "                      * agg_pass_groups.loc['One Day Pass','passes_sold'])\n",
    "pass_sales_rev_month = (month_yes * agg_pass_groups.loc['Monthly Pass','previous_pass_prices'] \n",
    "                        * agg_pass_groups.loc['Monthly Pass','passes_sold'])\n",
    "pass_sales_rev_annual = (annual_yes * agg_pass_groups.loc['Flex Pass','previous_pass_prices'] \n",
    "                         * agg_pass_groups.loc['Flex Pass','passes_sold'])\n",
    "\n",
    "# Adding objective function to model\n",
    "model_v1 += pulp.lpSum(walk_up_rev_block + trip_rev_day_pass + trip_rev_day_no_pass + trip_rev_month_pass \n",
    "                       + trip_rev_month_no_pass + trip_rev_annual_pass + trip_rev_annual_no_pass \n",
    "                       + pass_sales_rev_day + pass_sales_rev_month + pass_sales_rev_annual)\n",
    "\n",
    "# Constraints such that only one of each binary pair can be true.\n",
    "model_v1 += day_yes + day_no == 1\n",
    "model_v1 += month_yes + month_no == 1\n",
    "model_v1 += annual_yes + annual_no == 1\n",
    "\n",
    "optimization_result = model_v1.solve()\n",
    "\n",
    "assert optimization_result == pulp.LpStatusOptimal\n",
    "print(\"Status:\", LpStatus[model_v1.status])\n",
    "print(\"Optimal Solution to the problem: \", value(model_v1.objective))\n",
    "print (\"Individual decision_variables: \")\n",
    "for v in model_v1.variables():\n",
    "    print(v.name, \"=\", v.varValue)"
   ]
  },
  {
   "cell_type": "code",
   "execution_count": 66,
   "metadata": {},
   "outputs": [
    {
     "name": "stdout",
     "output_type": "stream",
     "text": [
      "Revenue Maximization Previous:\n",
      "MAXIMIZE\n",
      "63214.899999999994*annual_no + 75033.5*annual_yes + 92029.34999999999*day_no + 81051.25*day_yes + 859197.85*month_no + 863728.5*month_yes + 1138767.0\n",
      "SUBJECT TO\n",
      "_C1: day_no + day_yes = 1\n",
      "\n",
      "_C2: month_no + month_yes = 1\n",
      "\n",
      "_C3: annual_no + annual_yes = 1\n",
      "\n",
      "VARIABLES\n",
      "0 <= annual_no <= 1 Integer\n",
      "0 <= annual_yes <= 1 Integer\n",
      "0 <= day_no <= 1 Integer\n",
      "0 <= day_yes <= 1 Integer\n",
      "0 <= month_no <= 1 Integer\n",
      "0 <= month_yes <= 1 Integer\n",
      "\n"
     ]
    }
   ],
   "source": [
    "print(model_v1)"
   ]
  }
 ],
 "metadata": {
  "kernelspec": {
   "display_name": "Python 3",
   "language": "python",
   "name": "python3"
  },
  "language_info": {
   "codemirror_mode": {
    "name": "ipython",
    "version": 3
   },
   "file_extension": ".py",
   "mimetype": "text/x-python",
   "name": "python",
   "nbconvert_exporter": "python",
   "pygments_lexer": "ipython3",
   "version": "3.7.1"
  }
 },
 "nbformat": 4,
 "nbformat_minor": 2
}
