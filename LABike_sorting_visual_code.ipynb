{
 "cells": [
  {
   "cell_type": "code",
   "execution_count": 351,
   "metadata": {},
   "outputs": [],
   "source": [
    "import pandas as pd\n",
    "import numpy as np\n",
    "import matplotlib.pyplot as plt\n",
    "from matplotlib import pyplot\n",
    "import warnings\n",
    "warnings.filterwarnings(\"ignore\")"
   ]
  },
  {
   "cell_type": "code",
   "execution_count": 340,
   "metadata": {},
   "outputs": [],
   "source": [
    "## Load data and create the time stamped index\n",
    "def load_data(path):\n",
    "    ext = path.split(\".\")[-1].lower()\n",
    "    if ext == \"csv\":\n",
    "        data = pd.read_csv(path)\n",
    "    elif ext == \"xlsx\":\n",
    "        data = pd.read_excel(path)\n",
    "    \n",
    "    data[\"Date\"] = pd.to_datetime(data[\"start_time\"])\n",
    "    data = data.set_index(\"Date\")\n",
    "    data = data.sort_index()\n",
    "    data = data.dropna()\n",
    "    data[\"end_station\"] = [int(stn) for stn in data.end_station]   ## Converting float values to interger. \n",
    "    return data"
   ]
  },
  {
   "cell_type": "code",
   "execution_count": 342,
   "metadata": {},
   "outputs": [],
   "source": [
    "def add_variables(data):\n",
    "    df = data\n",
    "    start_stn = list(set(df.start_station))\n",
    "    end_stn = list(set(df.end_station))\n",
    "    \"\"\" length of end station is 142 and length of start station is 140\"\"\"\n",
    "\n",
    "    \"\"\"As length is not same of these two list, a search method is used to identify which element \n",
    "    is missing from the start station, hence the next chunk of code is to find\n",
    "    the station number not in the start station list\"\"\"\n",
    "    remove_stn = []\n",
    "    for i in range(len(end_stn)):\n",
    "        if end_stn[i] not in start_stn:\n",
    "            remove_stn.append(end_stn[i])\n",
    "    \"\"\"Updating end station list\"\"\"   \n",
    "    end_stn = [stn for stn in end_stn if stn not in remove_stn]\n",
    "\n",
    "    \"\"\"Removing rows with station number 4110 and 4118 as it is discarded from the analysis\"\"\"\n",
    "    index_df =[]\n",
    "    for i in range(len(df.end_station)):\n",
    "        if df.end_station[i] == remove_stn[0] or df.end_station[i] == remove_stn[1]:\n",
    "            index_df.append(df.index[i])\n",
    "    data = df.drop(index_df)\n",
    "    \n",
    "    from datetime import timedelta\n",
    "    #Setting plan_duration = 0 for passholder_type = Walk-up\n",
    "    data['plan_duration'].loc[data['passholder_type'] == \"Walk-up\"] = 0\n",
    "\n",
    "    #Setting annual pass = flex as both of them are the same\n",
    "    data['passholder_type'].loc[data['passholder_type'] == \"Annual Pass\"] = \"Flex Pass\"\n",
    "\n",
    "    #Calculating trip duration in minutes\n",
    "    data['start_time']= pd.to_datetime(data['start_time']) \n",
    "    data['end_time']= pd.to_datetime(data['end_time']) \n",
    "    data['trip_duration_mins'] = (data.end_time - data.start_time)/ timedelta(minutes=1)\n",
    "    \n",
    "    #Create dummy variables for passholder type\n",
    "    one_hot_pass = pd.get_dummies(data['passholder_type']).rename(columns={\n",
    "            'Flex Pass': 'annual',\n",
    "            'Monthly Pass': 'monthly',\n",
    "            'One Day Pass': 'one_day',\n",
    "            'Walk-up':'walk_up'})\n",
    "\n",
    "    #Create dummy variables for trip route category\n",
    "    one_hot_trip_type = pd.get_dummies(data['trip_route_category']).rename(columns={\n",
    "            'Round Trip': 'round_trip',\n",
    "            'One Way': 'one_way'})\n",
    "    \n",
    "    data = pd.concat([data , one_hot_pass, one_hot_trip_type], axis=1)\n",
    "\n",
    "    return data"
   ]
  },
  {
   "cell_type": "code",
   "execution_count": 392,
   "metadata": {},
   "outputs": [],
   "source": [
    "def regression_data(data):\n",
    "    \n",
    "    def grouping_by_month(data, yr, offset):\n",
    "        df = data.copy()\n",
    "        df.index = df.index.year\n",
    "        df = df.loc[yr]\n",
    "        df[\"Date\"] = pd.to_datetime(df[\"start_time\"])\n",
    "        df = df.set_index(\"Date\")\n",
    "        df[\"Month\"] = df.index.month + offset\n",
    "\n",
    "        df_sum = df.groupby(by=[\"start_station\",\"Month\",]).sum()[['plan_duration', 'trip_duration_mins', 'annual', 'monthly',\n",
    "           'one_day', 'walk_up', 'one_way', 'round_trip']]\n",
    "        df_count = df.groupby(by=[\"start_station\",\"Month\",]).count()[['trip_id']]\n",
    "\n",
    "        df = pd.concat([df_sum, df_count], axis=1)\n",
    "\n",
    "        return df\n",
    "    \n",
    "    df2016 = grouping_by_month(data, 2016, 0)\n",
    "    df2017 = grouping_by_month(data, 2017, 12)\n",
    "    df2018 = grouping_by_month(data, 2018, 24)\n",
    "    col = list(df2016.columns.values)\n",
    "    \n",
    "    data_16_17 = pd.merge(df2016, df2017, left_index=True, right_index=True, how=\"outer\", on= col )\n",
    "    final_data = pd.merge(data_16_17, df2018, left_index=True, right_index=True, how=\"outer\", on= col )\n",
    "    \n",
    "    return final_data\n"
   ]
  },
  {
   "cell_type": "code",
   "execution_count": 396,
   "metadata": {},
   "outputs": [],
   "source": [
    "def network(data):\n",
    "    \"\"\"Now creating a matrix of 140 x 140 with each station number\"\"\"\n",
    "    matrix = np.zeros([140,140])\n",
    "    station = list(set(data.start_station))\n",
    "    strt_end_station = np.stack([data.start_station , data.end_station], axis= 0)\n",
    "\n",
    "    for i in range(len(strt_end_station[0])):\n",
    "        index1 = station.index(strt_end_station[0][i])\n",
    "        index2 = station.index(strt_end_station[1][i])\n",
    "        matrix[index1][index2] +=1\n",
    "\n",
    "    station_matrix = pd.DataFrame(matrix, index= station, columns=station)\n",
    "    \n",
    "    return station_matrix"
   ]
  },
  {
   "cell_type": "code",
   "execution_count": 375,
   "metadata": {},
   "outputs": [],
   "source": [
    "# Loading the LA Bike data\n",
    "data = load_data(\"LABikeData.xlsx\")"
   ]
  },
  {
   "cell_type": "code",
   "execution_count": 381,
   "metadata": {},
   "outputs": [],
   "source": [
    "# Adding dummy variables and removing stations with the missing information\n",
    "data1 = add_variables(data)"
   ]
  },
  {
   "cell_type": "code",
   "execution_count": 393,
   "metadata": {},
   "outputs": [],
   "source": [
    "# Creating Linear regression dataset. \n",
    "data_reg = regression_data(data1)"
   ]
  },
  {
   "cell_type": "code",
   "execution_count": null,
   "metadata": {},
   "outputs": [],
   "source": []
  },
  {
   "cell_type": "code",
   "execution_count": null,
   "metadata": {},
   "outputs": [],
   "source": []
  },
  {
   "cell_type": "code",
   "execution_count": null,
   "metadata": {},
   "outputs": [],
   "source": []
  },
  {
   "cell_type": "code",
   "execution_count": null,
   "metadata": {},
   "outputs": [],
   "source": []
  },
  {
   "cell_type": "code",
   "execution_count": null,
   "metadata": {},
   "outputs": [],
   "source": []
  },
  {
   "cell_type": "code",
   "execution_count": null,
   "metadata": {},
   "outputs": [],
   "source": []
  },
  {
   "cell_type": "code",
   "execution_count": null,
   "metadata": {},
   "outputs": [],
   "source": []
  },
  {
   "cell_type": "code",
   "execution_count": null,
   "metadata": {},
   "outputs": [],
   "source": []
  },
  {
   "cell_type": "code",
   "execution_count": null,
   "metadata": {},
   "outputs": [],
   "source": []
  },
  {
   "cell_type": "code",
   "execution_count": null,
   "metadata": {},
   "outputs": [],
   "source": []
  },
  {
   "cell_type": "code",
   "execution_count": null,
   "metadata": {},
   "outputs": [],
   "source": []
  },
  {
   "cell_type": "code",
   "execution_count": null,
   "metadata": {},
   "outputs": [],
   "source": []
  },
  {
   "cell_type": "code",
   "execution_count": null,
   "metadata": {},
   "outputs": [],
   "source": []
  },
  {
   "cell_type": "code",
   "execution_count": null,
   "metadata": {},
   "outputs": [],
   "source": []
  },
  {
   "cell_type": "code",
   "execution_count": null,
   "metadata": {},
   "outputs": [],
   "source": []
  },
  {
   "cell_type": "code",
   "execution_count": null,
   "metadata": {},
   "outputs": [],
   "source": []
  },
  {
   "cell_type": "code",
   "execution_count": null,
   "metadata": {},
   "outputs": [],
   "source": []
  },
  {
   "cell_type": "code",
   "execution_count": null,
   "metadata": {},
   "outputs": [],
   "source": []
  },
  {
   "cell_type": "code",
   "execution_count": null,
   "metadata": {},
   "outputs": [],
   "source": []
  },
  {
   "cell_type": "code",
   "execution_count": null,
   "metadata": {},
   "outputs": [],
   "source": []
  },
  {
   "cell_type": "code",
   "execution_count": null,
   "metadata": {},
   "outputs": [],
   "source": []
  },
  {
   "cell_type": "code",
   "execution_count": null,
   "metadata": {},
   "outputs": [],
   "source": []
  },
  {
   "cell_type": "code",
   "execution_count": null,
   "metadata": {},
   "outputs": [],
   "source": []
  },
  {
   "cell_type": "code",
   "execution_count": null,
   "metadata": {},
   "outputs": [],
   "source": []
  },
  {
   "cell_type": "code",
   "execution_count": null,
   "metadata": {},
   "outputs": [],
   "source": []
  },
  {
   "cell_type": "code",
   "execution_count": 6,
   "metadata": {},
   "outputs": [],
   "source": [
    "# data[\"Year\"] = data.index.year\n",
    "# data[\"Month\"] = data.index.month\n",
    "# data[\"Week\"] = data.index.week\n",
    "# data[\"Weekday Name\"] = data.index.weekday_name\n",
    "# data[\"time\"] = data.index.time"
   ]
  },
  {
   "cell_type": "code",
   "execution_count": 5,
   "metadata": {},
   "outputs": [],
   "source": [
    "# #Reading json file which includes address and capabilities of different station\n",
    "# #Parsing out relevant fields\n",
    "# df = pd.read_json(\"LABike_data.json\", orient='columns')\n",
    "# station_properties = pd.read_json( (df['features']).to_json(),orient='index')\n",
    "# station_details = pd.read_json(station_properties['properties'].to_json(), orient = 'index')\n",
    "# station_info = station_details[['kioskId','addressStreet','name','bikesAvailable','totalDocks','docksAvailable']]"
   ]
  },
  {
   "cell_type": "code",
   "execution_count": 15,
   "metadata": {},
   "outputs": [],
   "source": [
    "# station_details.columns"
   ]
  },
  {
   "cell_type": "code",
   "execution_count": 16,
   "metadata": {},
   "outputs": [],
   "source": [
    "# plt.bar(station_details.index, station_details.bikesAvailable)"
   ]
  },
  {
   "cell_type": "code",
   "execution_count": 17,
   "metadata": {},
   "outputs": [],
   "source": [
    "# data.to_csv(\"LABike_data_with_time_index.csv\")"
   ]
  },
  {
   "cell_type": "code",
   "execution_count": 18,
   "metadata": {},
   "outputs": [],
   "source": [
    "# daily_data = data.groupby(by=\"Weekday Name\").count()\n",
    "# pyplot.figure(num=None, figsize=(4, 3), dpi=250, facecolor='w', edgecolor='k')\n",
    "# plt.bar(daily_data.index,daily_data.trip_id, color = \"green\")\n",
    "# plt.ylabel(\"Total Count of Trips\")\n",
    "# plt.xlabel(\"Days\")\n",
    "# plt.title(\"Trips Per Day\")\n",
    "# plt.rc(\"xtick\", labelsize=5)\n",
    "# plt.rc(\"ytick\", labelsize=5)"
   ]
  },
  {
   "cell_type": "code",
   "execution_count": 19,
   "metadata": {},
   "outputs": [],
   "source": [
    "# weekly_data = data.groupby(by=\"Week\").count()\n",
    "# pyplot.figure(num=None, figsize=(4, 3), dpi=250, facecolor='w', edgecolor='k')\n",
    "# plt.bar(weekly_data.index,weekly_data.trip_id, color = \"magenta\")\n",
    "# plt.ylabel(\"Total Count of Trips\")\n",
    "# plt.xlabel(\"Weeks\")\n",
    "# plt.title(\"Trips Per Week\")\n",
    "# plt.rc(\"xtick\", labelsize=10)\n",
    "# plt.rc(\"ytick\", labelsize=10)"
   ]
  },
  {
   "cell_type": "code",
   "execution_count": 20,
   "metadata": {},
   "outputs": [],
   "source": [
    "# monthly_data = data.groupby(by=\"Month\").count()\n",
    "# pyplot.figure(num=None, figsize=(4, 3), dpi=250, facecolor='w', edgecolor='k')\n",
    "# plt.bar(monthly_data.index,monthly_data.trip_id, color = \"cyan\")\n",
    "# plt.ylabel(\"Total Count of Trips\")\n",
    "# plt.xlabel(\"Months\")\n",
    "# plt.title(\"Trips Per Month\")\n",
    "# plt.rc(\"xtick\", labelsize=10)\n",
    "# plt.rc(\"ytick\", labelsize=10)"
   ]
  },
  {
   "cell_type": "code",
   "execution_count": 21,
   "metadata": {},
   "outputs": [],
   "source": [
    "# yearly_data = data.groupby(by=\"Year\").count()\n",
    "# pyplot.figure(num=None, figsize=(4, 3), dpi=250, facecolor='w', edgecolor='k')\n",
    "# plt.bar(yearly_data.index, yearly_data.trip_id, color= \"grey\")\n",
    "# plt.ylabel(\"Total Count of Trips\")\n",
    "# plt.xlabel(\"Year\")\n",
    "# plt.title(\"Trips Per Year\")\n",
    "# plt.rc(\"xtick\", labelsize=6)\n",
    "# plt.rc(\"ytick\", labelsize=10)"
   ]
  },
  {
   "cell_type": "code",
   "execution_count": 22,
   "metadata": {},
   "outputs": [],
   "source": [
    "# passholder_type_data = data.groupby(by=\"passholder_type\").count()\n",
    "# pyplot.figure(num=None, figsize=(4, 3), dpi=250, facecolor='w', edgecolor='k')\n",
    "# plt.bar(passholder_type_data.index, passholder_type_data.trip_id, color= \"blue\")\n",
    "# plt.ylabel(\"Total Count of Trips\")\n",
    "# plt.xlabel(\"Type of pass\")\n",
    "# plt.title(\"Trips Per pass\")\n",
    "# plt.rc(\"xtick\", labelsize=10)\n",
    "# plt.rc(\"ytick\", labelsize=10)"
   ]
  },
  {
   "cell_type": "code",
   "execution_count": 23,
   "metadata": {},
   "outputs": [],
   "source": [
    "# start_station_data = data.groupby(by=\"start_station\").count()\n",
    "# start_station_data.index = [str(ind) for ind in start_station_data.index]\n",
    "# start_station_data = start_station_data.sort_values(by=[\"trip_id\"], ascending= False)\n",
    "# first_30 = start_station_data.iloc[:30]\n",
    "# pyplot.figure(num=None, figsize=(4, 3), dpi=250, facecolor='w', edgecolor='k')\n",
    "# plt.bar(first_30.index, first_30.trip_id, color= \"pink\")\n",
    "# plt.ylabel(\"Total Count of Trips\")\n",
    "# plt.xlabel(\"Starting Station (top 30)\")\n",
    "# plt.title(\"Trips Per per station\")\n",
    "# plt.rc(\"xtick\", labelsize=2)\n",
    "# plt.rc(\"ytick\", labelsize=10)"
   ]
  },
  {
   "cell_type": "code",
   "execution_count": 24,
   "metadata": {},
   "outputs": [],
   "source": [
    "# time_data = data.groupby(by=\"time\").count()\n",
    "# pyplot.figure(num=None, figsize=(4, 3), dpi=250, facecolor='w', edgecolor='k')\n",
    "# plt.scatter(time_data.index, time_data.trip_id, color= \"brown\", marker=\".\")\n",
    "# plt.ylabel(\"Total Count of Trips\")\n",
    "# plt.xlabel(\"Time\")\n",
    "# plt.title(\"Trips Per hr\")\n",
    "# plt.rc(\"xtick\", labelsize=10)\n",
    "# plt.rc(\"ytick\", labelsize=10)"
   ]
  },
  {
   "cell_type": "code",
   "execution_count": 25,
   "metadata": {},
   "outputs": [],
   "source": [
    "# trip_data = data.groupby(by=\"trip_route_category\").count()\n",
    "# pyplot.figure(num=None, figsize=(4, 3), dpi=250, facecolor='w', edgecolor='k')\n",
    "# plt.bar(trip_data.index, trip_data.trip_id,color= \"yellow\")\n",
    "# plt.ylabel(\"Total Count of Trips\")\n",
    "# plt.xlabel(\"Type of Trip\")\n",
    "# plt.title(\"Trips Per types of trip\")\n",
    "# plt.rc(\"xtick\", labelsize=10)\n",
    "# plt.rc(\"ytick\", labelsize=10)"
   ]
  }
 ],
 "metadata": {
  "kernelspec": {
   "display_name": "Python 3",
   "language": "python",
   "name": "python3"
  },
  "language_info": {
   "codemirror_mode": {
    "name": "ipython",
    "version": 3
   },
   "file_extension": ".py",
   "mimetype": "text/x-python",
   "name": "python",
   "nbconvert_exporter": "python",
   "pygments_lexer": "ipython3",
   "version": "3.6.6"
  }
 },
 "nbformat": 4,
 "nbformat_minor": 2
}
