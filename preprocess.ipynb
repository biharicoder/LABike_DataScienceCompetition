{
 "cells": [
  {
   "cell_type": "code",
   "execution_count": 109,
   "metadata": {},
   "outputs": [],
   "source": [
    "import pandas as pd\n",
    "import numpy as np\n",
    "import matplotlib.pyplot as plt\n",
    "from matplotlib import pyplot\n",
    "import warnings\n",
    "warnings.filterwarnings(\"ignore\")\n",
    "from math import radians, cos, sin, asin, sqrt,atan2\n",
    "from sklearn import linear_model\n",
    "from datetime import timedelta\n",
    "from sklearn.model_selection import train_test_split\n",
    "from sklearn.metrics import r2_score\n",
    "from datetime import datetime\n",
    "import seaborn as sns\n",
    "from scipy.stats import norm\n",
    "import googlemaps"
   ]
  },
  {
   "cell_type": "code",
   "execution_count": 110,
   "metadata": {},
   "outputs": [],
   "source": [
    "df1=pd.read_csv('new_df.csv')"
   ]
  },
  {
   "cell_type": "code",
   "execution_count": 111,
   "metadata": {},
   "outputs": [
    {
     "name": "stdout",
     "output_type": "stream",
     "text": [
      "   Unnamed: 0  trip_id bike_id  start_station  end_station  \\\n",
      "0           0  4767292    6127           3034         3055   \n",
      "1           1  4767291    6026           3034         3055   \n",
      "2           2  5108748    5873           3034         3055   \n",
      "3           3  5350288    5776           3034         3055   \n",
      "4           4  5350286    6691           3034         3055   \n",
      "\n",
      "  trip_route_category           start_time             end_time  start_lat  \\\n",
      "0             One Way  2016-01-08 00:12:00  2016-01-08 00:49:00  34.042061   \n",
      "1             One Way  2016-01-08 00:13:00  2016-01-08 00:49:00  34.042061   \n",
      "2             One Way  2016-05-09 15:13:00  2016-05-09 15:21:00  34.042061   \n",
      "3             One Way  2016-07-09 12:13:00  2016-07-09 12:33:00  34.042061   \n",
      "4             One Way  2016-07-09 12:14:00  2016-07-09 12:34:00  34.042061   \n",
      "\n",
      "   start_lon    end_lat    end_lon  plan_duration passholder_type  \\\n",
      "0 -118.26338  34.044159 -118.25158              0         Walk-up   \n",
      "1 -118.26338  34.044159 -118.25158              0         Walk-up   \n",
      "2 -118.26338  34.044159 -118.25158              0         Walk-up   \n",
      "3 -118.26338  34.044159 -118.25158             30    Monthly Pass   \n",
      "4 -118.26338  34.044159 -118.25158             30    Monthly Pass   \n",
      "\n",
      "   trip_duration_mins  distance  \n",
      "0                37.0      1550  \n",
      "1                36.0      1550  \n",
      "2                 8.0      1550  \n",
      "3                20.0      1550  \n",
      "4                20.0      1550  \n",
      "(577223, 16)\n"
     ]
    }
   ],
   "source": [
    "print(df1.head())\n",
    "print(df1.shape)"
   ]
  },
  {
   "cell_type": "code",
   "execution_count": 112,
   "metadata": {},
   "outputs": [
    {
     "name": "stdout",
     "output_type": "stream",
     "text": [
      "(86716, 16)\n",
      "(490507, 16)\n"
     ]
    }
   ],
   "source": [
    "df1_roundtrip=df1.loc[df1[\"trip_route_category\"]=='Round Trip']\n",
    "df1_onewaytrip=df1.loc[df1[\"trip_route_category\"]=='One Way']\n",
    "print(df1_roundtrip.shape)\n",
    "print(df1_onewaytrip.shape)"
   ]
  },
  {
   "cell_type": "code",
   "execution_count": 113,
   "metadata": {},
   "outputs": [
    {
     "name": "stdout",
     "output_type": "stream",
     "text": [
      "count     86716.000000\n",
      "mean        513.751269\n",
      "std        4533.347949\n",
      "min           1.000000\n",
      "25%          19.000000\n",
      "50%          35.000000\n",
      "75%          69.000000\n",
      "max      132434.000000\n",
      "Name: trip_duration_mins, dtype: float64\n",
      "513.751268508695 4533.321810212411\n"
     ]
    },
    {
     "data": {
      "text/plain": [
       "Text(0.5,1,'Fit results: mu = 513.75,  std = 4533.32')"
      ]
     },
     "execution_count": 113,
     "metadata": {},
     "output_type": "execute_result"
    },
    {
     "data": {
      "image/png": "[encoded data removed]",
      "text/plain": [
       "<Figure size 432x288 with 1 Axes>"
      ]
     },
     "metadata": {},
     "output_type": "display_data"
    }
   ],
   "source": [
    "print(df1_roundtrip.trip_duration_mins.describe())\n",
    "\n",
    "# Fit a normal distribution to the data:\n",
    "mu, std = norm.fit(df1_roundtrip.trip_duration_mins)\n",
    "print(mu,std)\n",
    "\n",
    "# # Plot the histogram.\n",
    "plt.hist(df1_roundtrip.trip_duration_mins, bins=25, density=True, alpha=0.9, color='g')\n",
    "\n",
    "# # Plot the PDF.\n",
    "xmin, xmax = plt.xlim()\n",
    "x = np.linspace(xmin, xmax, 50)\n",
    "p = norm.pdf(x, mu, std)\n",
    "plt.plot(x, p, 'k', linewidth=2)\n",
    "title = \"Fit results: mu = %.2f,  std = %.2f\" % (mu, std)\n",
    "plt.title(title)"
   ]
  },
  {
   "cell_type": "code",
   "execution_count": 114,
   "metadata": {},
   "outputs": [
    {
     "name": "stdout",
     "output_type": "stream",
     "text": [
      "count    490507.000000\n",
      "mean        164.616925\n",
      "std        2669.388745\n",
      "min           1.000000\n",
      "25%           6.000000\n",
      "50%          10.000000\n",
      "75%          18.000000\n",
      "max      215836.000000\n",
      "Name: trip_duration_mins, dtype: float64\n",
      "164.61692493685106 2669.386023632656\n"
     ]
    },
    {
     "data": {
      "text/plain": [
       "Text(0.5,1,'Fit results: mu = 164.62,  std = 2669.39')"
      ]
     },
     "execution_count": 114,
     "metadata": {},
     "output_type": "execute_result"
    },
    {
     "data": {
      "image/png": "[encoded data removed]",
      "text/plain": [
       "<Figure size 432x288 with 1 Axes>"
      ]
     },
     "metadata": {},
     "output_type": "display_data"
    }
   ],
   "source": [
    "print(df1_onewaytrip.trip_duration_mins.describe())\n",
    "\n",
    "# Fit a normal distribution to the data:\n",
    "mu, std = norm.fit(df1_onewaytrip.trip_duration_mins)\n",
    "print(mu,std)\n",
    "\n",
    "# # Plot the histogram.\n",
    "plt.hist(df1_onewaytrip.trip_duration_mins, bins=25, density=True, alpha=0.9, color='g')\n",
    "\n",
    "# # Plot the PDF.\n",
    "xmin, xmax = plt.xlim()\n",
    "x = np.linspace(xmin, xmax, 50)\n",
    "p = norm.pdf(x, mu, std)\n",
    "plt.plot(x, p, 'k', linewidth=2)\n",
    "title = \"Fit results: mu = %.2f,  std = %.2f\" % (mu, std)\n",
    "plt.title(title)"
   ]
  },
  {
   "cell_type": "code",
   "execution_count": 115,
   "metadata": {},
   "outputs": [
    {
     "name": "stdout",
     "output_type": "stream",
     "text": [
      "1801976639375.0\n",
      "86715\n",
      "4558.557781804351\n"
     ]
    }
   ],
   "source": [
    "#to find standard deviation using median for round trip\n",
    "df1_roundtrip['median']=np.median(df1_roundtrip.trip_duration_mins)\n",
    "df1_roundtrip['std_num']=np.square(df1_roundtrip['trip_duration_mins']-df1_roundtrip['median'])\n",
    "x1=np.sum(df1_roundtrip['std_num'])\n",
    "y=(len(df1_roundtrip.trip_duration_mins)-1)\n",
    "print(x1)\n",
    "print(y)\n",
    "std=np.sqrt(x1/y)\n",
    "print(std)"
   ]
  },
  {
   "cell_type": "code",
   "execution_count": 117,
   "metadata": {},
   "outputs": [
    {
     "name": "stdout",
     "output_type": "stream",
     "text": [
      "10.0\n",
      "36.0\n"
     ]
    }
   ],
   "source": [
    "print(np.percentile(df1_onewaytrip.trip_duration_mins, 50))\n",
    "print(np.percentile(df1_onewaytrip.trip_duration_mins, 90))"
   ]
  },
  {
   "cell_type": "code",
   "execution_count": 118,
   "metadata": {},
   "outputs": [
    {
     "name": "stdout",
     "output_type": "stream",
     "text": [
      "4.0\n",
      "128.0\n"
     ]
    }
   ],
   "source": [
    "print(np.percentile(df1_roundtrip.trip_duration_mins,10))\n",
    "print(np.percentile(df1_roundtrip.trip_duration_mins,90))"
   ]
  },
  {
   "cell_type": "code",
   "execution_count": 119,
   "metadata": {},
   "outputs": [
    {
     "name": "stdout",
     "output_type": "stream",
     "text": [
      "3506893597720.0\n",
      "490506\n",
      "2673.8628821359316\n"
     ]
    }
   ],
   "source": [
    "#to find standard deviation using median for onewaytrip\n",
    "df1_onewaytrip['median']=np.median(df1_onewaytrip.trip_duration_mins)\n",
    "df1_onewaytrip['std_num']=np.square(df1_onewaytrip['trip_duration_mins']-df1_onewaytrip['median'])\n",
    "x1=np.sum(df1_onewaytrip['std_num'])\n",
    "y=(len(df1_onewaytrip.trip_duration_mins)-1)\n",
    "print(x1)\n",
    "print(y)\n",
    "std=np.sqrt(x1/y)\n",
    "print(std)"
   ]
  },
  {
   "cell_type": "code",
   "execution_count": 120,
   "metadata": {},
   "outputs": [
    {
     "name": "stdout",
     "output_type": "stream",
     "text": [
      "<class 'pandas.core.frame.DataFrame'>\n"
     ]
    }
   ],
   "source": [
    "print(type(df1_onewaytrip))"
   ]
  },
  {
   "cell_type": "code",
   "execution_count": 123,
   "metadata": {},
   "outputs": [
    {
     "name": "stdout",
     "output_type": "stream",
     "text": [
      "(78046, 18)\n",
      "     Unnamed: 0  trip_id bike_id  start_station  end_station  \\\n",
      "153         153  4767285    6137           3028         3028   \n",
      "154         154  4767284    5927           3028         3028   \n",
      "155         155  4767283    5862           3028         3028   \n",
      "158         158  4767156    6137           3028         3028   \n",
      "159         159  4799021    6327           3028         3028   \n",
      "\n",
      "    trip_route_category           start_time             end_time  start_lat  \\\n",
      "153          Round Trip  2016-01-08 00:42:00  2016-01-08 01:18:00  34.058319   \n",
      "154          Round Trip  2016-01-08 00:44:00  2016-01-08 01:17:00  34.058319   \n",
      "155          Round Trip  2016-01-08 00:46:00  2016-01-08 01:17:00  34.058319   \n",
      "158          Round Trip  2016-01-08 09:48:00  2016-01-08 10:06:00  34.058319   \n",
      "159          Round Trip  2016-02-08 15:40:00  2016-02-08 15:45:00  34.058319   \n",
      "\n",
      "     start_lon    end_lat    end_lon  plan_duration passholder_type  \\\n",
      "153 -118.24609  34.058319 -118.24609              0         Walk-up   \n",
      "154 -118.24609  34.058319 -118.24609              0         Walk-up   \n",
      "155 -118.24609  34.058319 -118.24609              0         Walk-up   \n",
      "158 -118.24609  34.058319 -118.24609              0         Walk-up   \n",
      "159 -118.24609  34.058319 -118.24609             30    Monthly Pass   \n",
      "\n",
      "     trip_duration_mins  distance  median  std_num  \n",
      "153                36.0         0    35.0      1.0  \n",
      "154                33.0         0    35.0      4.0  \n",
      "155                31.0         0    35.0     16.0  \n",
      "158                18.0         0    35.0    289.0  \n",
      "159                 5.0         0    35.0    900.0  \n"
     ]
    }
   ],
   "source": [
    "df1_roundtrip=df1_roundtrip.loc[df1_roundtrip['trip_duration_mins']<=128]\n",
    "print(df1_roundtrip.shape)\n",
    "print(df1_roundtrip.head())\n",
    "#8670 rows deleted after 90%percetile for roundtrip\n"
   ]
  },
  {
   "cell_type": "code",
   "execution_count": 124,
   "metadata": {},
   "outputs": [
    {
     "name": "stdout",
     "output_type": "stream",
     "text": [
      "(443094, 18)\n",
      "   Unnamed: 0  trip_id bike_id  start_station  end_station  \\\n",
      "1           1  4767291    6026           3034         3055   \n",
      "2           2  5108748    5873           3034         3055   \n",
      "3           3  5350288    5776           3034         3055   \n",
      "4           4  5350286    6691           3034         3055   \n",
      "5           5  5350285    6011           3034         3055   \n",
      "\n",
      "  trip_route_category           start_time             end_time  start_lat  \\\n",
      "1             One Way  2016-01-08 00:13:00  2016-01-08 00:49:00  34.042061   \n",
      "2             One Way  2016-05-09 15:13:00  2016-05-09 15:21:00  34.042061   \n",
      "3             One Way  2016-07-09 12:13:00  2016-07-09 12:33:00  34.042061   \n",
      "4             One Way  2016-07-09 12:14:00  2016-07-09 12:34:00  34.042061   \n",
      "5             One Way  2016-07-09 12:14:00  2016-07-09 12:34:00  34.042061   \n",
      "\n",
      "   start_lon    end_lat    end_lon  plan_duration passholder_type  \\\n",
      "1 -118.26338  34.044159 -118.25158              0         Walk-up   \n",
      "2 -118.26338  34.044159 -118.25158              0         Walk-up   \n",
      "3 -118.26338  34.044159 -118.25158             30    Monthly Pass   \n",
      "4 -118.26338  34.044159 -118.25158             30    Monthly Pass   \n",
      "5 -118.26338  34.044159 -118.25158              0         Walk-up   \n",
      "\n",
      "   trip_duration_mins  distance  median  std_num  \n",
      "1                36.0      1550    10.0    676.0  \n",
      "2                 8.0      1550    10.0      4.0  \n",
      "3                20.0      1550    10.0    100.0  \n",
      "4                20.0      1550    10.0    100.0  \n",
      "5                20.0      1550    10.0    100.0  \n"
     ]
    }
   ],
   "source": [
    "df1_onewaytrip=df1_onewaytrip.loc[df1_onewaytrip['trip_duration_mins']<=36]\n",
    "print(df1_onewaytrip.shape)\n",
    "print(df1_onewaytrip.head())\n",
    "#47413 rows deleted after 90%percetile for onewaytrip"
   ]
  },
  {
   "cell_type": "code",
   "execution_count": 131,
   "metadata": {},
   "outputs": [
    {
     "name": "stdout",
     "output_type": "stream",
     "text": [
      "(521140, 18)\n"
     ]
    }
   ],
   "source": [
    "df_final=pd.concat([df1_onewaytrip,df1_roundtrip],axis=0)\n",
    "print(df_final.shape)\n",
    "df_final.to_csv('df_final.csv',index=0)"
   ]
  }
 ],
 "metadata": {
  "kernelspec": {
   "display_name": "Python 3",
   "language": "python",
   "name": "python3"
  },
  "language_info": {
   "codemirror_mode": {
    "name": "ipython",
    "version": 3
   },
   "file_extension": ".py",
   "mimetype": "text/x-python",
   "name": "python",
   "nbconvert_exporter": "python",
   "pygments_lexer": "ipython3",
   "version": "3.6.5"
  }
 },
 "nbformat": 4,
 "nbformat_minor": 2
}
