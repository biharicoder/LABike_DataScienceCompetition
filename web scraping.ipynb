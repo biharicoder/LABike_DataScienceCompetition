{
 "cells": [
  {
   "cell_type": "code",
   "execution_count": 1,
   "metadata": {},
   "outputs": [],
   "source": [
    "import os\n",
    "import requests\n",
    "import zipfile\n",
    "from bs4 import BeautifulSoup\n",
    "from urllib.parse import urlparse\n",
    "from urllib.request import Request, urlopen\n",
    "import time\n",
    "import pickle\n",
    "import zipfile\n"
   ]
  },
  {
   "cell_type": "code",
   "execution_count": null,
   "metadata": {},
   "outputs": [],
   "source": [
    "## check for extraction directories existence\n",
    "#if not os.path.isdir('downloaded'):\n",
    "#    os.makedirs('downloaded')\n",
    "#\n",
    "#if not os.path.isdir('extracted'):\n",
    "#    os.makedirs('extracted')\n",
    "#\n",
    "## open logfile for downloaded data and save to local variable\n",
    "#if os.path.isfile('downloaded.pickle'):\n",
    "#    downloadedLog = pickle.load(open('downloaded.pickle', 'rb'))\n",
    "#else:\n",
    "#    downloadedLog = {'key':'value'}\n",
    "#if not os.path.exists(download_folder):\n",
    "#    os.makedirs(download_folder)\n",
    "#    #print('1')\n",
    "#print(urls)\n"
   ]
  },
  {
   "cell_type": "code",
   "execution_count": 2,
   "metadata": {},
   "outputs": [
    {
     "data": {
      "text/plain": [
       "['../../wp-content/uploads/2019/04/metro-bike-share-trips-2019-q1.csv.zip',\n",
       " '../../wp-content/uploads/2019/01/metro-bike-share-trips-2018-q4.csv.zip',\n",
       " '../../wp-content/uploads/2018/10/metro-bike-share-trips-2018-q3.csv.zip',\n",
       " '../../wp-content/uploads/2018/08/metro-bike-share-trips-2018-q2.csv.zip',\n",
       " '../../wp-content/uploads/2018/04/metro-bike-share-trips-2018-q1.csv.zip',\n",
       " '../../wp-content/uploads/2018/02/metro-bike-share-trips-2017-q4-v2.csv.zip',\n",
       " '../../wp-content/uploads/2016/10/metro-bike-share-trips-2017-q3.csv.zip',\n",
       " '../../wp-content/uploads/2017/07/la_metro_gbfs_trips_Q2_2017.csv.zip',\n",
       " '../../wp-content/uploads/2017/04/la_metro_gbfs_trips_Q1_2017.zip',\n",
       " '../../wp-content/uploads/2018/09/metro-bike-share-trips-2016-q4.csv.zip',\n",
       " '../../wp-content/uploads/2016/10/MetroBikeShare_2016_Q3_trips.zip']"
      ]
     },
     "execution_count": 2,
     "metadata": {},
     "output_type": "execute_result"
    }
   ],
   "source": [
    "url = 'https://bikeshare.metro.net/about/data/'\n",
    "root = 'https://bikeshare.metro.net/'\n",
    "req = Request(url, headers={'User-Agent': 'Mozilla/5.0'})\n",
    "webpage = urlopen(req).read()\n",
    "soup = BeautifulSoup(webpage, 'html.parser')\n",
    "all_hrefs = soup.find_all('a')\n",
    "all_links = [link.get('href') for link in all_hrefs]\n",
    "zip_files = [dl for dl in all_links if dl and '.zip' in dl]\n",
    "download_folder = '/LABike_DataScienceCompetition-master'\n",
    "zip_files"
   ]
  },
  {
   "cell_type": "code",
   "execution_count": 8,
   "metadata": {},
   "outputs": [
    {
     "data": {
      "text/plain": [
       "['https://bikeshare.metro.net/wp-content/uploads/2019/04/metro-bike-share-trips-2019-q1.csv.zip',\n",
       " 'https://bikeshare.metro.net/wp-content/uploads/2019/01/metro-bike-share-trips-2018-q4.csv.zip',\n",
       " 'https://bikeshare.metro.net/wp-content/uploads/2018/10/metro-bike-share-trips-2018-q3.csv.zip',\n",
       " 'https://bikeshare.metro.net/wp-content/uploads/2018/08/metro-bike-share-trips-2018-q2.csv.zip',\n",
       " 'https://bikeshare.metro.net/wp-content/uploads/2018/04/metro-bike-share-trips-2018-q1.csv.zip',\n",
       " 'https://bikeshare.metro.net/wp-content/uploads/2018/02/metro-bike-share-trips-2017-q4-v2.csv.zip',\n",
       " 'https://bikeshare.metro.net/wp-content/uploads/2016/10/metro-bike-share-trips-2017-q3.csv.zip',\n",
       " 'https://bikeshare.metro.net/wp-content/uploads/2017/07/la_metro_gbfs_trips_Q2_2017.csv.zip',\n",
       " 'https://bikeshare.metro.net/wp-content/uploads/2017/04/la_metro_gbfs_trips_Q1_2017.zip',\n",
       " 'https://bikeshare.metro.net/wp-content/uploads/2018/09/metro-bike-share-trips-2016-q4.csv.zip',\n",
       " 'https://bikeshare.metro.net/wp-content/uploads/2016/10/MetroBikeShare_2016_Q3_trips.zip']"
      ]
     },
     "execution_count": 8,
     "metadata": {},
     "output_type": "execute_result"
    }
   ],
   "source": [
    "def strip_scheme(url):\n",
    "    parsed = urlparse(url)\n",
    "    scheme = '/../..'\n",
    "    return parsed.geturl().replace(scheme, '', 1)\n",
    "\n",
    "urls=[]\n",
    "for zip_file in zip_files: \n",
    "    url = root + zip_file\n",
    "    url = strip_scheme(url)\n",
    "    urls.append(url)\n",
    "urls"
   ]
  },
  {
   "cell_type": "code",
   "execution_count": null,
   "metadata": {},
   "outputs": [],
   "source": [
    "for i in range(len(urls)):\n",
    "    zip_filename = os.path.basename(zip_files[i])\n",
    "    if os.path.isfile(zip_filename)\n",
    "        print (\"Skipping \" + zip_filename)\n",
    "        continue\n",
    "    response=Request(urls[i], headers={'User-Agent': 'Mozilla/5.0'})\n",
    "    zippedData=urlopen(response).read()\n",
    "    output = open(zip_filename,'wb')\n",
    "    output.write(zippedData)\n",
    "    output.close()\n",
    "    zip = zipfile.ZipFile(zip_filename)\n",
    "    zip.extractall()\n",
    "    time.sleep(1)"
   ]
  }
 ],
 "metadata": {
  "kernelspec": {
   "display_name": "Python 3",
   "language": "python",
   "name": "python3"
  },
  "language_info": {
   "codemirror_mode": {
    "name": "ipython",
    "version": 3
   },
   "file_extension": ".py",
   "mimetype": "text/x-python",
   "name": "python",
   "nbconvert_exporter": "python",
   "pygments_lexer": "ipython3",
   "version": "3.6.8"
  }
 },
 "nbformat": 4,
 "nbformat_minor": 2
}
